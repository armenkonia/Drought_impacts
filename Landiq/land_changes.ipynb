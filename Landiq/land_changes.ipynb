{
 "cells": [
  {
   "cell_type": "code",
   "execution_count": 54,
   "metadata": {},
   "outputs": [],
   "source": [
    "import pandas as pd\n",
    "import matplotlib.pyplot as plt\n",
    "import numpy as np\n",
    "import os\n",
    "import pickle\n",
    "import plotly.express as px\n",
    "import seaborn as sns"
   ]
  },
  {
   "cell_type": "code",
   "execution_count": 55,
   "metadata": {},
   "outputs": [],
   "source": [
    "# import land areas for ag, ub, fl and nl for all Tulare, San Joaquin, and Sacramento\n",
    "metadata = pd.read_pickle(r'data/land_area_HR.pk')\n",
    "for i, data in enumerate(metadata):\n",
    "    # Update the DataFrame in place based on the condition\n",
    "    metadata[i] = data[data.index.isin(['Tulare Lake', 'San Joaquin River', 'Sacramento River'])]\n",
    "    \n",
    "land_area_all, land_area_ag, land_area_ub, land_area_fl, land_area_nl = metadata"
   ]
  },
  {
   "cell_type": "code",
   "execution_count": 56,
   "metadata": {},
   "outputs": [],
   "source": [
    "# restructuring dataframes for plotting purposes\n",
    "def restructure_df_for_plot (total_area_all):\n",
    "    total_area_plot = total_area_all.iloc[:,:-2]\n",
    "    total_area_plot.columns = ['Field_2016','Field_2018','Field_2020','Field_2021','Field_2022']\n",
    "    total_area_plot = total_area_plot.transpose()\n",
    "    return total_area_plot\n",
    "\n",
    "land_area_all = restructure_df_for_plot (land_area_all)\n",
    "land_area_ag = restructure_df_for_plot (land_area_ag)\n",
    "land_area_ub = restructure_df_for_plot (land_area_ub)\n",
    "land_area_fl = restructure_df_for_plot (land_area_fl)\n",
    "land_area_nl = restructure_df_for_plot (land_area_nl)"
   ]
  },
  {
   "cell_type": "code",
   "execution_count": 57,
   "metadata": {},
   "outputs": [
    {
     "data": {
      "text/html": [
       "<div>\n",
       "<style scoped>\n",
       "    .dataframe tbody tr th:only-of-type {\n",
       "        vertical-align: middle;\n",
       "    }\n",
       "\n",
       "    .dataframe tbody tr th {\n",
       "        vertical-align: top;\n",
       "    }\n",
       "\n",
       "    .dataframe thead th {\n",
       "        text-align: right;\n",
       "    }\n",
       "</style>\n",
       "<table border=\"1\" class=\"dataframe\">\n",
       "  <thead>\n",
       "    <tr style=\"text-align: right;\">\n",
       "      <th>HR_NAME</th>\n",
       "      <th>Sacramento River</th>\n",
       "      <th>San Joaquin River</th>\n",
       "      <th>Tulare Lake</th>\n",
       "    </tr>\n",
       "  </thead>\n",
       "  <tbody>\n",
       "    <tr>\n",
       "      <th>Field_2016</th>\n",
       "      <td>2.784378e+06</td>\n",
       "      <td>2.642290e+06</td>\n",
       "      <td>3.565020e+06</td>\n",
       "    </tr>\n",
       "    <tr>\n",
       "      <th>Field_2018</th>\n",
       "      <td>2.615344e+06</td>\n",
       "      <td>2.468502e+06</td>\n",
       "      <td>3.505885e+06</td>\n",
       "    </tr>\n",
       "    <tr>\n",
       "      <th>Field_2020</th>\n",
       "      <td>2.732791e+06</td>\n",
       "      <td>2.484591e+06</td>\n",
       "      <td>3.520287e+06</td>\n",
       "    </tr>\n",
       "    <tr>\n",
       "      <th>Field_2021</th>\n",
       "      <td>2.738298e+06</td>\n",
       "      <td>2.484661e+06</td>\n",
       "      <td>3.515082e+06</td>\n",
       "    </tr>\n",
       "    <tr>\n",
       "      <th>Field_2022</th>\n",
       "      <td>2.783710e+06</td>\n",
       "      <td>2.483218e+06</td>\n",
       "      <td>3.514015e+06</td>\n",
       "    </tr>\n",
       "  </tbody>\n",
       "</table>\n",
       "</div>"
      ],
      "text/plain": [
       "HR_NAME     Sacramento River  San Joaquin River   Tulare Lake\n",
       "Field_2016      2.784378e+06       2.642290e+06  3.565020e+06\n",
       "Field_2018      2.615344e+06       2.468502e+06  3.505885e+06\n",
       "Field_2020      2.732791e+06       2.484591e+06  3.520287e+06\n",
       "Field_2021      2.738298e+06       2.484661e+06  3.515082e+06\n",
       "Field_2022      2.783710e+06       2.483218e+06  3.514015e+06"
      ]
     },
     "execution_count": 57,
     "metadata": {},
     "output_type": "execute_result"
    }
   ],
   "source": [
    "land_area_all.head()"
   ]
  },
  {
   "cell_type": "code",
   "execution_count": 58,
   "metadata": {},
   "outputs": [],
   "source": [
    "# Creating MultiIndexes for each DataFrame\n",
    "land_area_ag.columns = pd.MultiIndex.from_product([['Agriculture'], land_area_ag.columns])\n",
    "land_area_ub.columns = pd.MultiIndex.from_product([['Urban'], land_area_ub.columns])\n",
    "land_area_fl.columns = pd.MultiIndex.from_product([['Fallow'], land_area_fl.columns])\n",
    "\n",
    "# Concatenate all three DataFrames at once\n",
    "meta_df = pd.concat([land_area_ag, land_area_ub, land_area_fl], axis=1)\n",
    "meta_df.columns = meta_df.columns.rename(['Land Type', 'Region'], level=[0, 1])\n",
    "meta_df.index = ['2016','2018','2020','2021','2022']"
   ]
  },
  {
   "cell_type": "code",
   "execution_count": 59,
   "metadata": {},
   "outputs": [],
   "source": [
    "import matplotlib.pyplot as plt\n",
    "import pandas as pd\n",
    "import numpy as np\n",
    "\n",
    "def plot_clustered_stacked(dfall, labels=None, title=\"multiple stacked bar plot\", H=\"/\", figsize=(20, 8), **kwargs):\n",
    "    \"\"\"Given a list of dataframes, with identical columns and index, create a clustered stacked bar plot. \n",
    "    labels is a list of the names of the dataframe, used for the legend\n",
    "    title is a string for the title of the plot\n",
    "    H is the hatch used for identification of the different dataframe\n",
    "    figsize is a tuple indicating the size of the figure\"\"\"\n",
    "\n",
    "    plt.figure(figsize=figsize)  # Set the figure size\n",
    "    axe = plt.subplot(111)\n",
    "\n",
    "    \n",
    "    for df in dfall:  # for each data frame\n",
    "        axe = df.plot(kind=\"bar\",\n",
    "                      linewidth=0,\n",
    "                      stacked=True,\n",
    "                      ax=axe,\n",
    "                      legend=False,\n",
    "                      grid=False,\n",
    "                      **kwargs)  # make bar plots\n",
    "\n",
    "    h, l = axe.get_legend_handles_labels()  # get the handles we want to modify\n",
    "    for i in range(0, len(dfall) * len(dfall[0].columns), len(dfall[0].columns)):  # len(h) = n_col * n_df\n",
    "        for j, pa in enumerate(h[i:i+len(dfall[0].columns)]):\n",
    "            for rect in pa.patches:  # for each index\n",
    "                rect.set_x(rect.get_x() + 1 / float(len(dfall) + 1) * i / float(len(dfall[0].columns)))\n",
    "                rect.set_hatch(H * int(i / len(dfall[0].columns)))  # edited part\n",
    "                rect.set_width(1 / float(len(dfall) + 1))\n",
    "\n",
    "    axe.set_xticks((np.arange(0, 2 * len(dfall[0].index), 2) + 1 / float(len(dfall) + 1)) / 2.)\n",
    "    axe.set_xticklabels(df.index, rotation=0)\n",
    "    axe.set_title(title)\n",
    "    \n",
    "    # Adding a horizontal line at y=0 for reference\n",
    "    axe.axhline(y=0, color='black', linewidth=1)\n",
    "\n",
    "    # Add invisible data to add another legend\n",
    "    n = []\n",
    "    for i in range(len(dfall)):\n",
    "        n.append(axe.bar(0, 0, color=\"gray\", hatch=H * 2*i))\n",
    "\n",
    "    l1 = axe.legend(h[:len(dfall[0].columns)], l[:len(dfall[0].columns)], loc=[.91, 0.9])\n",
    "    if labels is not None:\n",
    "        l2 = plt.legend(n, labels, loc=[.91, 0.8])\n",
    "    axe.add_artist(l1)\n",
    "\n",
    "    plt.tight_layout()  # Adjust the layout to make room for all plot components\n",
    "    return axe\n",
    "\n",
    "# Example usage with the same fake data\n",
    "df1 = pd.DataFrame(np.random.rand(4, 5),\n",
    "                   index=[\"A\", \"B\", \"C\", \"D\"],\n",
    "                   columns=[\"I\", \"J\", \"K\", \"L\", \"M\"])\n",
    "df2 = pd.DataFrame(np.random.rand(4, 5),\n",
    "                   index=[\"A\", \"B\", \"C\", \"D\"],\n",
    "                   columns=[\"I\", \"J\", \"K\", \"L\", \"M\"])\n",
    "df3 = pd.DataFrame(np.random.rand(4, 5),\n",
    "                   index=[\"A\", \"B\", \"C\", \"D\"], \n",
    "                   columns=[\"I\", \"J\", \"K\", \"L\", \"M\"])\n"
   ]
  },
  {
   "cell_type": "code",
   "execution_count": 60,
   "metadata": {},
   "outputs": [
    {
     "data": {
      "image/png": "[encoded data removed]",
      "text/plain": [
       "<Figure size 2000x800 with 1 Axes>"
      ]
     },
     "metadata": {},
     "output_type": "display_data"
    }
   ],
   "source": [
    "plot_clustered_stacked([meta_df['Agriculture'], meta_df['Urban'], meta_df['Fallow']],[\"Ag\", \"Ur\", \"Fl\"], title=\"Evolution of land type in 3 main Ag regions\")\n",
    "plt.show()"
   ]
  },
  {
   "cell_type": "code",
   "execution_count": 61,
   "metadata": {},
   "outputs": [],
   "source": [
    "base_year_data = meta_df.loc['2018']\n",
    "percentage_change_from_2018 = meta_df.sub(base_year_data, axis='columns').divide(base_year_data, axis='columns')*100\n",
    "percentage_change_from_2018 = percentage_change_from_2018.drop('2018')\n",
    "\n",
    "relative_change_from_2018 = meta_df.sub(base_year_data, axis='columns')\n",
    "relative_change_from_2018 = relative_change_from_2018.drop('2018')"
   ]
  },
  {
   "cell_type": "code",
   "execution_count": 62,
   "metadata": {},
   "outputs": [
    {
     "data": {
      "text/html": [
       "<div>\n",
       "<style scoped>\n",
       "    .dataframe tbody tr th:only-of-type {\n",
       "        vertical-align: middle;\n",
       "    }\n",
       "\n",
       "    .dataframe tbody tr th {\n",
       "        vertical-align: top;\n",
       "    }\n",
       "\n",
       "    .dataframe thead tr th {\n",
       "        text-align: left;\n",
       "    }\n",
       "</style>\n",
       "<table border=\"1\" class=\"dataframe\">\n",
       "  <thead>\n",
       "    <tr>\n",
       "      <th>Land Type</th>\n",
       "      <th colspan=\"3\" halign=\"left\">Agriculture</th>\n",
       "      <th colspan=\"3\" halign=\"left\">Urban</th>\n",
       "      <th colspan=\"3\" halign=\"left\">Fallow</th>\n",
       "    </tr>\n",
       "    <tr>\n",
       "      <th>Region</th>\n",
       "      <th>Sacramento River</th>\n",
       "      <th>San Joaquin River</th>\n",
       "      <th>Tulare Lake</th>\n",
       "      <th>Sacramento River</th>\n",
       "      <th>San Joaquin River</th>\n",
       "      <th>Tulare Lake</th>\n",
       "      <th>Sacramento River</th>\n",
       "      <th>San Joaquin River</th>\n",
       "      <th>Tulare Lake</th>\n",
       "    </tr>\n",
       "  </thead>\n",
       "  <tbody>\n",
       "    <tr>\n",
       "      <th>2016</th>\n",
       "      <td>-1.591732</td>\n",
       "      <td>-0.524341</td>\n",
       "      <td>0.641438</td>\n",
       "      <td>-0.926261</td>\n",
       "      <td>-0.783468</td>\n",
       "      <td>-2.162198</td>\n",
       "      <td>5.019508</td>\n",
       "      <td>-0.857994</td>\n",
       "      <td>-5.513852</td>\n",
       "    </tr>\n",
       "    <tr>\n",
       "      <th>2020</th>\n",
       "      <td>3.557201</td>\n",
       "      <td>-1.126520</td>\n",
       "      <td>-1.692482</td>\n",
       "      <td>6.823578</td>\n",
       "      <td>4.446776</td>\n",
       "      <td>4.975102</td>\n",
       "      <td>9.143561</td>\n",
       "      <td>18.186776</td>\n",
       "      <td>9.052945</td>\n",
       "    </tr>\n",
       "    <tr>\n",
       "      <th>2021</th>\n",
       "      <td>-3.325556</td>\n",
       "      <td>-1.026572</td>\n",
       "      <td>-6.406901</td>\n",
       "      <td>7.407341</td>\n",
       "      <td>5.111390</td>\n",
       "      <td>5.562298</td>\n",
       "      <td>101.583810</td>\n",
       "      <td>14.270291</td>\n",
       "      <td>33.506621</td>\n",
       "    </tr>\n",
       "    <tr>\n",
       "      <th>2022</th>\n",
       "      <td>-9.788787</td>\n",
       "      <td>-0.926918</td>\n",
       "      <td>-4.566632</td>\n",
       "      <td>15.875750</td>\n",
       "      <td>4.651988</td>\n",
       "      <td>6.074837</td>\n",
       "      <td>189.285851</td>\n",
       "      <td>12.869270</td>\n",
       "      <td>22.858883</td>\n",
       "    </tr>\n",
       "  </tbody>\n",
       "</table>\n",
       "</div>"
      ],
      "text/plain": [
       "Land Type      Agriculture                                          Urban  \\\n",
       "Region    Sacramento River San Joaquin River Tulare Lake Sacramento River   \n",
       "2016             -1.591732         -0.524341    0.641438        -0.926261   \n",
       "2020              3.557201         -1.126520   -1.692482         6.823578   \n",
       "2021             -3.325556         -1.026572   -6.406901         7.407341   \n",
       "2022             -9.788787         -0.926918   -4.566632        15.875750   \n",
       "\n",
       "Land Type                                         Fallow                    \\\n",
       "Region    San Joaquin River Tulare Lake Sacramento River San Joaquin River   \n",
       "2016              -0.783468   -2.162198         5.019508         -0.857994   \n",
       "2020               4.446776    4.975102         9.143561         18.186776   \n",
       "2021               5.111390    5.562298       101.583810         14.270291   \n",
       "2022               4.651988    6.074837       189.285851         12.869270   \n",
       "\n",
       "Land Type              \n",
       "Region    Tulare Lake  \n",
       "2016        -5.513852  \n",
       "2020         9.052945  \n",
       "2021        33.506621  \n",
       "2022        22.858883  "
      ]
     },
     "execution_count": 62,
     "metadata": {},
     "output_type": "execute_result"
    }
   ],
   "source": [
    "percentage_change_from_2018"
   ]
  },
  {
   "cell_type": "code",
   "execution_count": 63,
   "metadata": {},
   "outputs": [
    {
     "data": {
      "image/png": "[encoded data removed]",
      "text/plain": [
       "<Figure size 2000x800 with 1 Axes>"
      ]
     },
     "metadata": {},
     "output_type": "display_data"
    }
   ],
   "source": [
    "plot_clustered_stacked([percentage_change_from_2018['Agriculture'], percentage_change_from_2018['Urban'], percentage_change_from_2018['Fallow']],[\"Ag\", \"Ur\", \"Fl\"], title=\"Percent Change of land type in 3 main Ag regions\")\n",
    "plt.show()\n"
   ]
  },
  {
   "cell_type": "code",
   "execution_count": 64,
   "metadata": {},
   "outputs": [
    {
     "data": {
      "image/png": "[encoded data removed]",
      "text/plain": [
       "<Figure size 2000x800 with 1 Axes>"
      ]
     },
     "metadata": {},
     "output_type": "display_data"
    }
   ],
   "source": [
    "# plot_clustered_stacked([relative_change_from_2018['Agriculture'], relative_change_from_2018['Urban'], relative_change_from_2018['Fallow']],[\"Ag\", \"Ur\", \"Fl\"])\n",
    "plot_clustered_stacked([relative_change_from_2018['Agriculture'], relative_change_from_2018['Fallow']],[\"Ag\", \"Fl\"], title='Relative Change of Ag and Fl')\n",
    "plt.show()"
   ]
  },
  {
   "cell_type": "code",
   "execution_count": 65,
   "metadata": {},
   "outputs": [],
   "source": [
    "# only 3 main hr regions\n",
    "metadata = pd.read_pickle(r'Data/crop_area_HR.pk')\n",
    "metadata = metadata[:5] \n",
    "for i, data in enumerate(metadata):\n",
    "    metadata[i] = data.loc[:,['Tulare Lake', 'San Joaquin River', 'Sacramento River']]\n",
    "    \n",
    "landiq_2016_crops,landiq_2018_crops,landiq_2020_crops,landiq_2021_crops,landiq_2022_crops=  metadata"
   ]
  },
  {
   "cell_type": "code",
   "execution_count": 133,
   "metadata": {},
   "outputs": [
    {
     "data": {
      "text/html": [
       "<div>\n",
       "<style scoped>\n",
       "    .dataframe tbody tr th:only-of-type {\n",
       "        vertical-align: middle;\n",
       "    }\n",
       "\n",
       "    .dataframe tbody tr th {\n",
       "        vertical-align: top;\n",
       "    }\n",
       "\n",
       "    .dataframe thead tr th {\n",
       "        text-align: left;\n",
       "    }\n",
       "\n",
       "    .dataframe thead tr:last-of-type th {\n",
       "        text-align: right;\n",
       "    }\n",
       "</style>\n",
       "<table border=\"1\" class=\"dataframe\">\n",
       "  <thead>\n",
       "    <tr>\n",
       "      <th>Region</th>\n",
       "      <th colspan=\"9\" halign=\"left\">Central Coast</th>\n",
       "      <th>Colorado River</th>\n",
       "      <th>...</th>\n",
       "      <th>South Lahontan</th>\n",
       "      <th colspan=\"9\" halign=\"left\">Tulare Lake</th>\n",
       "    </tr>\n",
       "    <tr>\n",
       "      <th>Crop Type</th>\n",
       "      <th>C</th>\n",
       "      <th>D</th>\n",
       "      <th>F</th>\n",
       "      <th>G</th>\n",
       "      <th>P</th>\n",
       "      <th>R</th>\n",
       "      <th>T</th>\n",
       "      <th>V</th>\n",
       "      <th>YP</th>\n",
       "      <th>C</th>\n",
       "      <th>...</th>\n",
       "      <th>YP</th>\n",
       "      <th>C</th>\n",
       "      <th>D</th>\n",
       "      <th>F</th>\n",
       "      <th>G</th>\n",
       "      <th>P</th>\n",
       "      <th>R</th>\n",
       "      <th>T</th>\n",
       "      <th>V</th>\n",
       "      <th>YP</th>\n",
       "    </tr>\n",
       "    <tr>\n",
       "      <th>Year</th>\n",
       "      <th></th>\n",
       "      <th></th>\n",
       "      <th></th>\n",
       "      <th></th>\n",
       "      <th></th>\n",
       "      <th></th>\n",
       "      <th></th>\n",
       "      <th></th>\n",
       "      <th></th>\n",
       "      <th></th>\n",
       "      <th></th>\n",
       "      <th></th>\n",
       "      <th></th>\n",
       "      <th></th>\n",
       "      <th></th>\n",
       "      <th></th>\n",
       "      <th></th>\n",
       "      <th></th>\n",
       "      <th></th>\n",
       "      <th></th>\n",
       "      <th></th>\n",
       "    </tr>\n",
       "  </thead>\n",
       "  <tbody>\n",
       "    <tr>\n",
       "      <th>2016</th>\n",
       "      <td>20289.289951</td>\n",
       "      <td>13294.954955</td>\n",
       "      <td>2638.054404</td>\n",
       "      <td>55098.929528</td>\n",
       "      <td>22384.752950</td>\n",
       "      <td>NaN</td>\n",
       "      <td>278247.288713</td>\n",
       "      <td>127091.251425</td>\n",
       "      <td>1111.059726</td>\n",
       "      <td>28288.056675</td>\n",
       "      <td>...</td>\n",
       "      <td>407.603094</td>\n",
       "      <td>229142.565562</td>\n",
       "      <td>9.347751e+05</td>\n",
       "      <td>448653.549731</td>\n",
       "      <td>223282.163229</td>\n",
       "      <td>190178.145981</td>\n",
       "      <td>NaN</td>\n",
       "      <td>249453.673472</td>\n",
       "      <td>338664.252259</td>\n",
       "      <td>103962.901886</td>\n",
       "    </tr>\n",
       "    <tr>\n",
       "      <th>2018</th>\n",
       "      <td>19714.820030</td>\n",
       "      <td>13318.900940</td>\n",
       "      <td>2567.660540</td>\n",
       "      <td>62571.736380</td>\n",
       "      <td>27602.789810</td>\n",
       "      <td>NaN</td>\n",
       "      <td>269247.267080</td>\n",
       "      <td>130775.884560</td>\n",
       "      <td>1619.584680</td>\n",
       "      <td>31333.630310</td>\n",
       "      <td>...</td>\n",
       "      <td>126.451400</td>\n",
       "      <td>239026.022620</td>\n",
       "      <td>1.056063e+06</td>\n",
       "      <td>477633.990830</td>\n",
       "      <td>146119.289910</td>\n",
       "      <td>149758.958880</td>\n",
       "      <td>NaN</td>\n",
       "      <td>244009.394610</td>\n",
       "      <td>315456.765600</td>\n",
       "      <td>72721.560600</td>\n",
       "    </tr>\n",
       "    <tr>\n",
       "      <th>2020</th>\n",
       "      <td>19454.285799</td>\n",
       "      <td>13137.927955</td>\n",
       "      <td>4503.540583</td>\n",
       "      <td>54335.976875</td>\n",
       "      <td>20608.613364</td>\n",
       "      <td>NaN</td>\n",
       "      <td>267296.628647</td>\n",
       "      <td>126640.010939</td>\n",
       "      <td>2297.863222</td>\n",
       "      <td>33266.135263</td>\n",
       "      <td>...</td>\n",
       "      <td>5.187427</td>\n",
       "      <td>252568.067552</td>\n",
       "      <td>1.172432e+06</td>\n",
       "      <td>396499.987855</td>\n",
       "      <td>147225.093144</td>\n",
       "      <td>143921.834209</td>\n",
       "      <td>NaN</td>\n",
       "      <td>235445.808670</td>\n",
       "      <td>279598.292019</td>\n",
       "      <td>27387.542252</td>\n",
       "    </tr>\n",
       "    <tr>\n",
       "      <th>2021</th>\n",
       "      <td>19690.279505</td>\n",
       "      <td>13590.918742</td>\n",
       "      <td>2803.351501</td>\n",
       "      <td>44946.006253</td>\n",
       "      <td>18610.380793</td>\n",
       "      <td>NaN</td>\n",
       "      <td>265664.906808</td>\n",
       "      <td>123214.713202</td>\n",
       "      <td>2170.133439</td>\n",
       "      <td>31979.150046</td>\n",
       "      <td>...</td>\n",
       "      <td>4.107353</td>\n",
       "      <td>246996.102688</td>\n",
       "      <td>1.167538e+06</td>\n",
       "      <td>338240.353163</td>\n",
       "      <td>112271.875203</td>\n",
       "      <td>136627.477161</td>\n",
       "      <td>NaN</td>\n",
       "      <td>212956.335349</td>\n",
       "      <td>265480.156821</td>\n",
       "      <td>47640.941459</td>\n",
       "    </tr>\n",
       "    <tr>\n",
       "      <th>2022</th>\n",
       "      <td>20497.799796</td>\n",
       "      <td>12953.947093</td>\n",
       "      <td>2825.096046</td>\n",
       "      <td>46899.228340</td>\n",
       "      <td>16718.948972</td>\n",
       "      <td>NaN</td>\n",
       "      <td>266725.959901</td>\n",
       "      <td>121651.018326</td>\n",
       "      <td>1971.769314</td>\n",
       "      <td>32471.492112</td>\n",
       "      <td>...</td>\n",
       "      <td>5.601837</td>\n",
       "      <td>257137.974081</td>\n",
       "      <td>1.216252e+06</td>\n",
       "      <td>353973.134720</td>\n",
       "      <td>128560.946737</td>\n",
       "      <td>114974.405503</td>\n",
       "      <td>NaN</td>\n",
       "      <td>191238.607791</td>\n",
       "      <td>255139.885554</td>\n",
       "      <td>60176.510700</td>\n",
       "    </tr>\n",
       "  </tbody>\n",
       "</table>\n",
       "<p>5 rows × 90 columns</p>\n",
       "</div>"
      ],
      "text/plain": [
       "Region    Central Coast                                           \\\n",
       "Crop Type             C             D            F             G   \n",
       "Year                                                               \n",
       "2016       20289.289951  13294.954955  2638.054404  55098.929528   \n",
       "2018       19714.820030  13318.900940  2567.660540  62571.736380   \n",
       "2020       19454.285799  13137.927955  4503.540583  54335.976875   \n",
       "2021       19690.279505  13590.918742  2803.351501  44946.006253   \n",
       "2022       20497.799796  12953.947093  2825.096046  46899.228340   \n",
       "\n",
       "Region                                                                  \\\n",
       "Crop Type             P   R              T              V           YP   \n",
       "Year                                                                     \n",
       "2016       22384.752950 NaN  278247.288713  127091.251425  1111.059726   \n",
       "2018       27602.789810 NaN  269247.267080  130775.884560  1619.584680   \n",
       "2020       20608.613364 NaN  267296.628647  126640.010939  2297.863222   \n",
       "2021       18610.380793 NaN  265664.906808  123214.713202  2170.133439   \n",
       "2022       16718.948972 NaN  266725.959901  121651.018326  1971.769314   \n",
       "\n",
       "Region    Colorado River  ... South Lahontan    Tulare Lake                \\\n",
       "Crop Type              C  ...             YP              C             D   \n",
       "Year                      ...                                               \n",
       "2016        28288.056675  ...     407.603094  229142.565562  9.347751e+05   \n",
       "2018        31333.630310  ...     126.451400  239026.022620  1.056063e+06   \n",
       "2020        33266.135263  ...       5.187427  252568.067552  1.172432e+06   \n",
       "2021        31979.150046  ...       4.107353  246996.102688  1.167538e+06   \n",
       "2022        32471.492112  ...       5.601837  257137.974081  1.216252e+06   \n",
       "\n",
       "Region                                                                     \\\n",
       "Crop Type              F              G              P   R              T   \n",
       "Year                                                                        \n",
       "2016       448653.549731  223282.163229  190178.145981 NaN  249453.673472   \n",
       "2018       477633.990830  146119.289910  149758.958880 NaN  244009.394610   \n",
       "2020       396499.987855  147225.093144  143921.834209 NaN  235445.808670   \n",
       "2021       338240.353163  112271.875203  136627.477161 NaN  212956.335349   \n",
       "2022       353973.134720  128560.946737  114974.405503 NaN  191238.607791   \n",
       "\n",
       "Region                                   \n",
       "Crop Type              V             YP  \n",
       "Year                                     \n",
       "2016       338664.252259  103962.901886  \n",
       "2018       315456.765600   72721.560600  \n",
       "2020       279598.292019   27387.542252  \n",
       "2021       265480.156821   47640.941459  \n",
       "2022       255139.885554   60176.510700  \n",
       "\n",
       "[5 rows x 90 columns]"
      ]
     },
     "execution_count": 133,
     "metadata": {},
     "output_type": "execute_result"
    }
   ],
   "source": [
    "landiq_2016_crops,landiq_2018_crops,landiq_2020_crops,landiq_2021_crops,landiq_2022_crops, all_hr_crops= pd.read_pickle(r'Data/crop_area_HR.pk')\n",
    "meta_df_crops = pd.concat(all_hr_crops, axis=1)\n",
    "meta_df_crops.columns = meta_df_crops.columns.rename(['Year', 'Region'], level=[0, 1])\n",
    "melted_df = pd.melt(meta_df_crops,ignore_index=False)\n",
    "meta_df_crops = melted_df.reset_index(names='Crop Type')\n",
    "meta_df_crops_pivot = meta_df_crops.pivot_table(index='Year', columns=['Region', 'Crop Type'], values='value',dropna=False)\n",
    "meta_df_crops_pivot"
   ]
  },
  {
   "cell_type": "code",
   "execution_count": 67,
   "metadata": {},
   "outputs": [
    {
     "data": {
      "application/vnd.plotly.v1+json": {
       "config": {
        "plotlyServerURL": "https://plot.ly"
       },
       "data": [
        {
         "alignmentgroup": "True",
         "hovertemplate": "Year=2016<br>Region=%{x}<br>Crop Quantitiy=%{y}<extra></extra>",
         "legendgroup": "2016",
         "marker": {
          "color": "#636efa",
          "pattern": {
           "shape": ""
          }
         },
         "name": "2016",
         "offsetgroup": "2016",
         "orientation": "v",
         "showlegend": true,
         "textposition": "auto",
         "type": "bar",
         "x": [
          "Sacramento River",
          "San Joaquin River",
          "Tulare Lake"
         ],
         "xaxis": "x",
         "y": [
          1942941.33721044,
          1953071.10103865,
          2718112.39433244
         ],
         "yaxis": "y"
        },
        {
         "alignmentgroup": "True",
         "hovertemplate": "Year=2018<br>Region=%{x}<br>Crop Quantitiy=%{y}<extra></extra>",
         "legendgroup": "2018",
         "marker": {
          "color": "#EF553B",
          "pattern": {
           "shape": ""
          }
         },
         "name": "2018",
         "offsetgroup": "2018",
         "orientation": "v",
         "showlegend": true,
         "textposition": "auto",
         "type": "bar",
         "x": [
          "Sacramento River",
          "San Joaquin River",
          "Tulare Lake"
         ],
         "xaxis": "x",
         "y": [
          1974367.98096327,
          1963365.8294614402,
          2700788.50272
         ],
         "yaxis": "y"
        },
        {
         "alignmentgroup": "True",
         "hovertemplate": "Year=2020<br>Region=%{x}<br>Crop Quantitiy=%{y}<extra></extra>",
         "legendgroup": "2020",
         "marker": {
          "color": "#00cc96",
          "pattern": {
           "shape": ""
          }
         },
         "name": "2020",
         "offsetgroup": "2020",
         "orientation": "v",
         "showlegend": true,
         "textposition": "auto",
         "type": "bar",
         "x": [
          "Sacramento River",
          "San Joaquin River",
          "Tulare Lake"
         ],
         "xaxis": "x",
         "y": [
          2044600.2193486402,
          1941248.1291870798,
          2655078.1541102896
         ],
         "yaxis": "y"
        },
        {
         "alignmentgroup": "True",
         "hovertemplate": "Year=2021<br>Region=%{x}<br>Crop Quantitiy=%{y}<extra></extra>",
         "legendgroup": "2021",
         "marker": {
          "color": "#ab63fa",
          "pattern": {
           "shape": ""
          }
         },
         "name": "2021",
         "offsetgroup": "2021",
         "orientation": "v",
         "showlegend": true,
         "textposition": "auto",
         "type": "bar",
         "x": [
          "Sacramento River",
          "San Joaquin River",
          "Tulare Lake"
         ],
         "xaxis": "x",
         "y": [
          1908709.25824489,
          1943210.46078391,
          2527751.6578157
         ],
         "yaxis": "y"
        },
        {
         "alignmentgroup": "True",
         "hovertemplate": "Year=2022<br>Region=%{x}<br>Crop Quantitiy=%{y}<extra></extra>",
         "legendgroup": "2022",
         "marker": {
          "color": "#FFA15A",
          "pattern": {
           "shape": ""
          }
         },
         "name": "2022",
         "offsetgroup": "2022",
         "orientation": "v",
         "showlegend": true,
         "textposition": "auto",
         "type": "bar",
         "x": [
          "Sacramento River",
          "San Joaquin River",
          "Tulare Lake"
         ],
         "xaxis": "x",
         "y": [
          1781101.302969,
          1945167.04702308,
          2577453.42608681
         ],
         "yaxis": "y"
        }
       ],
       "layout": {
        "barmode": "group",
        "height": 600,
        "legend": {
         "title": {
          "text": "Year"
         },
         "tracegroupgap": 0
        },
        "template": {
         "data": {
          "bar": [
           {
            "error_x": {
             "color": "#2a3f5f"
            },
            "error_y": {
             "color": "#2a3f5f"
            },
            "marker": {
             "line": {
              "color": "#E5ECF6",
              "width": 0.5
             },
             "pattern": {
              "fillmode": "overlay",
              "size": 10,
              "solidity": 0.2
             }
            },
            "type": "bar"
           }
          ],
          "barpolar": [
           {
            "marker": {
             "line": {
              "color": "#E5ECF6",
              "width": 0.5
             },
             "pattern": {
              "fillmode": "overlay",
              "size": 10,
              "solidity": 0.2
             }
            },
            "type": "barpolar"
           }
          ],
          "carpet": [
           {
            "aaxis": {
             "endlinecolor": "#2a3f5f",
             "gridcolor": "white",
             "linecolor": "white",
             "minorgridcolor": "white",
             "startlinecolor": "#2a3f5f"
            },
            "baxis": {
             "endlinecolor": "#2a3f5f",
             "gridcolor": "white",
             "linecolor": "white",
             "minorgridcolor": "white",
             "startlinecolor": "#2a3f5f"
            },
            "type": "carpet"
           }
          ],
          "choropleth": [
           {
            "colorbar": {
             "outlinewidth": 0,
             "ticks": ""
            },
            "type": "choropleth"
           }
          ],
          "contour": [
           {
            "colorbar": {
             "outlinewidth": 0,
             "ticks": ""
            },
            "colorscale": [
             [
              0,
              "#0d0887"
             ],
             [
              0.1111111111111111,
              "#46039f"
             ],
             [
              0.2222222222222222,
              "#7201a8"
             ],
             [
              0.3333333333333333,
              "#9c179e"
             ],
             [
              0.4444444444444444,
              "#bd3786"
             ],
             [
              0.5555555555555556,
              "#d8576b"
             ],
             [
              0.6666666666666666,
              "#ed7953"
             ],
             [
              0.7777777777777778,
              "#fb9f3a"
             ],
             [
              0.8888888888888888,
              "#fdca26"
             ],
             [
              1,
              "#f0f921"
             ]
            ],
            "type": "contour"
           }
          ],
          "contourcarpet": [
           {
            "colorbar": {
             "outlinewidth": 0,
             "ticks": ""
            },
            "type": "contourcarpet"
           }
          ],
          "heatmap": [
           {
            "colorbar": {
             "outlinewidth": 0,
             "ticks": ""
            },
            "colorscale": [
             [
              0,
              "#0d0887"
             ],
             [
              0.1111111111111111,
              "#46039f"
             ],
             [
              0.2222222222222222,
              "#7201a8"
             ],
             [
              0.3333333333333333,
              "#9c179e"
             ],
             [
              0.4444444444444444,
              "#bd3786"
             ],
             [
              0.5555555555555556,
              "#d8576b"
             ],
             [
              0.6666666666666666,
              "#ed7953"
             ],
             [
              0.7777777777777778,
              "#fb9f3a"
             ],
             [
              0.8888888888888888,
              "#fdca26"
             ],
             [
              1,
              "#f0f921"
             ]
            ],
            "type": "heatmap"
           }
          ],
          "heatmapgl": [
           {
            "colorbar": {
             "outlinewidth": 0,
             "ticks": ""
            },
            "colorscale": [
             [
              0,
              "#0d0887"
             ],
             [
              0.1111111111111111,
              "#46039f"
             ],
             [
              0.2222222222222222,
              "#7201a8"
             ],
             [
              0.3333333333333333,
              "#9c179e"
             ],
             [
              0.4444444444444444,
              "#bd3786"
             ],
             [
              0.5555555555555556,
              "#d8576b"
             ],
             [
              0.6666666666666666,
              "#ed7953"
             ],
             [
              0.7777777777777778,
              "#fb9f3a"
             ],
             [
              0.8888888888888888,
              "#fdca26"
             ],
             [
              1,
              "#f0f921"
             ]
            ],
            "type": "heatmapgl"
           }
          ],
          "histogram": [
           {
            "marker": {
             "pattern": {
              "fillmode": "overlay",
              "size": 10,
              "solidity": 0.2
             }
            },
            "type": "histogram"
           }
          ],
          "histogram2d": [
           {
            "colorbar": {
             "outlinewidth": 0,
             "ticks": ""
            },
            "colorscale": [
             [
              0,
              "#0d0887"
             ],
             [
              0.1111111111111111,
              "#46039f"
             ],
             [
              0.2222222222222222,
              "#7201a8"
             ],
             [
              0.3333333333333333,
              "#9c179e"
             ],
             [
              0.4444444444444444,
              "#bd3786"
             ],
             [
              0.5555555555555556,
              "#d8576b"
             ],
             [
              0.6666666666666666,
              "#ed7953"
             ],
             [
              0.7777777777777778,
              "#fb9f3a"
             ],
             [
              0.8888888888888888,
              "#fdca26"
             ],
             [
              1,
              "#f0f921"
             ]
            ],
            "type": "histogram2d"
           }
          ],
          "histogram2dcontour": [
           {
            "colorbar": {
             "outlinewidth": 0,
             "ticks": ""
            },
            "colorscale": [
             [
              0,
              "#0d0887"
             ],
             [
              0.1111111111111111,
              "#46039f"
             ],
             [
              0.2222222222222222,
              "#7201a8"
             ],
             [
              0.3333333333333333,
              "#9c179e"
             ],
             [
              0.4444444444444444,
              "#bd3786"
             ],
             [
              0.5555555555555556,
              "#d8576b"
             ],
             [
              0.6666666666666666,
              "#ed7953"
             ],
             [
              0.7777777777777778,
              "#fb9f3a"
             ],
             [
              0.8888888888888888,
              "#fdca26"
             ],
             [
              1,
              "#f0f921"
             ]
            ],
            "type": "histogram2dcontour"
           }
          ],
          "mesh3d": [
           {
            "colorbar": {
             "outlinewidth": 0,
             "ticks": ""
            },
            "type": "mesh3d"
           }
          ],
          "parcoords": [
           {
            "line": {
             "colorbar": {
              "outlinewidth": 0,
              "ticks": ""
             }
            },
            "type": "parcoords"
           }
          ],
          "pie": [
           {
            "automargin": true,
            "type": "pie"
           }
          ],
          "scatter": [
           {
            "fillpattern": {
             "fillmode": "overlay",
             "size": 10,
             "solidity": 0.2
            },
            "type": "scatter"
           }
          ],
          "scatter3d": [
           {
            "line": {
             "colorbar": {
              "outlinewidth": 0,
              "ticks": ""
             }
            },
            "marker": {
             "colorbar": {
              "outlinewidth": 0,
              "ticks": ""
             }
            },
            "type": "scatter3d"
           }
          ],
          "scattercarpet": [
           {
            "marker": {
             "colorbar": {
              "outlinewidth": 0,
              "ticks": ""
             }
            },
            "type": "scattercarpet"
           }
          ],
          "scattergeo": [
           {
            "marker": {
             "colorbar": {
              "outlinewidth": 0,
              "ticks": ""
             }
            },
            "type": "scattergeo"
           }
          ],
          "scattergl": [
           {
            "marker": {
             "colorbar": {
              "outlinewidth": 0,
              "ticks": ""
             }
            },
            "type": "scattergl"
           }
          ],
          "scattermapbox": [
           {
            "marker": {
             "colorbar": {
              "outlinewidth": 0,
              "ticks": ""
             }
            },
            "type": "scattermapbox"
           }
          ],
          "scatterpolar": [
           {
            "marker": {
             "colorbar": {
              "outlinewidth": 0,
              "ticks": ""
             }
            },
            "type": "scatterpolar"
           }
          ],
          "scatterpolargl": [
           {
            "marker": {
             "colorbar": {
              "outlinewidth": 0,
              "ticks": ""
             }
            },
            "type": "scatterpolargl"
           }
          ],
          "scatterternary": [
           {
            "marker": {
             "colorbar": {
              "outlinewidth": 0,
              "ticks": ""
             }
            },
            "type": "scatterternary"
           }
          ],
          "surface": [
           {
            "colorbar": {
             "outlinewidth": 0,
             "ticks": ""
            },
            "colorscale": [
             [
              0,
              "#0d0887"
             ],
             [
              0.1111111111111111,
              "#46039f"
             ],
             [
              0.2222222222222222,
              "#7201a8"
             ],
             [
              0.3333333333333333,
              "#9c179e"
             ],
             [
              0.4444444444444444,
              "#bd3786"
             ],
             [
              0.5555555555555556,
              "#d8576b"
             ],
             [
              0.6666666666666666,
              "#ed7953"
             ],
             [
              0.7777777777777778,
              "#fb9f3a"
             ],
             [
              0.8888888888888888,
              "#fdca26"
             ],
             [
              1,
              "#f0f921"
             ]
            ],
            "type": "surface"
           }
          ],
          "table": [
           {
            "cells": {
             "fill": {
              "color": "#EBF0F8"
             },
             "line": {
              "color": "white"
             }
            },
            "header": {
             "fill": {
              "color": "#C8D4E3"
             },
             "line": {
              "color": "white"
             }
            },
            "type": "table"
           }
          ]
         },
         "layout": {
          "annotationdefaults": {
           "arrowcolor": "#2a3f5f",
           "arrowhead": 0,
           "arrowwidth": 1
          },
          "autotypenumbers": "strict",
          "coloraxis": {
           "colorbar": {
            "outlinewidth": 0,
            "ticks": ""
           }
          },
          "colorscale": {
           "diverging": [
            [
             0,
             "#8e0152"
            ],
            [
             0.1,
             "#c51b7d"
            ],
            [
             0.2,
             "#de77ae"
            ],
            [
             0.3,
             "#f1b6da"
            ],
            [
             0.4,
             "#fde0ef"
            ],
            [
             0.5,
             "#f7f7f7"
            ],
            [
             0.6,
             "#e6f5d0"
            ],
            [
             0.7,
             "#b8e186"
            ],
            [
             0.8,
             "#7fbc41"
            ],
            [
             0.9,
             "#4d9221"
            ],
            [
             1,
             "#276419"
            ]
           ],
           "sequential": [
            [
             0,
             "#0d0887"
            ],
            [
             0.1111111111111111,
             "#46039f"
            ],
            [
             0.2222222222222222,
             "#7201a8"
            ],
            [
             0.3333333333333333,
             "#9c179e"
            ],
            [
             0.4444444444444444,
             "#bd3786"
            ],
            [
             0.5555555555555556,
             "#d8576b"
            ],
            [
             0.6666666666666666,
             "#ed7953"
            ],
            [
             0.7777777777777778,
             "#fb9f3a"
            ],
            [
             0.8888888888888888,
             "#fdca26"
            ],
            [
             1,
             "#f0f921"
            ]
           ],
           "sequentialminus": [
            [
             0,
             "#0d0887"
            ],
            [
             0.1111111111111111,
             "#46039f"
            ],
            [
             0.2222222222222222,
             "#7201a8"
            ],
            [
             0.3333333333333333,
             "#9c179e"
            ],
            [
             0.4444444444444444,
             "#bd3786"
            ],
            [
             0.5555555555555556,
             "#d8576b"
            ],
            [
             0.6666666666666666,
             "#ed7953"
            ],
            [
             0.7777777777777778,
             "#fb9f3a"
            ],
            [
             0.8888888888888888,
             "#fdca26"
            ],
            [
             1,
             "#f0f921"
            ]
           ]
          },
          "colorway": [
           "#636efa",
           "#EF553B",
           "#00cc96",
           "#ab63fa",
           "#FFA15A",
           "#19d3f3",
           "#FF6692",
           "#B6E880",
           "#FF97FF",
           "#FECB52"
          ],
          "font": {
           "color": "#2a3f5f"
          },
          "geo": {
           "bgcolor": "white",
           "lakecolor": "white",
           "landcolor": "#E5ECF6",
           "showlakes": true,
           "showland": true,
           "subunitcolor": "white"
          },
          "hoverlabel": {
           "align": "left"
          },
          "hovermode": "closest",
          "mapbox": {
           "style": "light"
          },
          "paper_bgcolor": "white",
          "plot_bgcolor": "#E5ECF6",
          "polar": {
           "angularaxis": {
            "gridcolor": "white",
            "linecolor": "white",
            "ticks": ""
           },
           "bgcolor": "#E5ECF6",
           "radialaxis": {
            "gridcolor": "white",
            "linecolor": "white",
            "ticks": ""
           }
          },
          "scene": {
           "xaxis": {
            "backgroundcolor": "#E5ECF6",
            "gridcolor": "white",
            "gridwidth": 2,
            "linecolor": "white",
            "showbackground": true,
            "ticks": "",
            "zerolinecolor": "white"
           },
           "yaxis": {
            "backgroundcolor": "#E5ECF6",
            "gridcolor": "white",
            "gridwidth": 2,
            "linecolor": "white",
            "showbackground": true,
            "ticks": "",
            "zerolinecolor": "white"
           },
           "zaxis": {
            "backgroundcolor": "#E5ECF6",
            "gridcolor": "white",
            "gridwidth": 2,
            "linecolor": "white",
            "showbackground": true,
            "ticks": "",
            "zerolinecolor": "white"
           }
          },
          "shapedefaults": {
           "line": {
            "color": "#2a3f5f"
           }
          },
          "ternary": {
           "aaxis": {
            "gridcolor": "white",
            "linecolor": "white",
            "ticks": ""
           },
           "baxis": {
            "gridcolor": "white",
            "linecolor": "white",
            "ticks": ""
           },
           "bgcolor": "#E5ECF6",
           "caxis": {
            "gridcolor": "white",
            "linecolor": "white",
            "ticks": ""
           }
          },
          "title": {
           "x": 0.05
          },
          "xaxis": {
           "automargin": true,
           "gridcolor": "white",
           "linecolor": "white",
           "ticks": "",
           "title": {
            "standoff": 15
           },
           "zerolinecolor": "white",
           "zerolinewidth": 2
          },
          "yaxis": {
           "automargin": true,
           "gridcolor": "white",
           "linecolor": "white",
           "ticks": "",
           "title": {
            "standoff": 15
           },
           "zerolinecolor": "white",
           "zerolinewidth": 2
          }
         }
        },
        "title": {
         "text": "Temporal Changes in Crop Distribution Across Hydrological Regions"
        },
        "xaxis": {
         "anchor": "y",
         "domain": [
          0,
          1
         ],
         "title": {
          "text": "Region"
         }
        },
        "yaxis": {
         "anchor": "x",
         "domain": [
          0,
          1
         ],
         "title": {
          "text": "Crop Quantitiy"
         }
        }
       }
      }
     },
     "metadata": {},
     "output_type": "display_data"
    }
   ],
   "source": [
    "meta_df_crops_selected = meta_df_crops.loc[meta_df_crops['Region'].isin(['Tulare Lake', 'San Joaquin River', 'Sacramento River'])]\n",
    "regional_sum = meta_df_crops_selected.groupby(['Region','Year'])['value'].sum()\n",
    "regional_sum = regional_sum.reset_index()\n",
    "regional_sum_pivot = regional_sum.pivot_table(index='Year', columns=['Region'], values='value',dropna=False) \n",
    "\n",
    "df = regional_sum_pivot.T\n",
    "fig = px.bar(df, x=df.index, y=df.columns, title=\"Temporal Changes in Crop Distribution Across Hydrological Regions\", labels={'index': 'Hydrological Region', 'value': 'Crop Quantitiy'}, height=600,barmode='group')\n",
    "fig.show()"
   ]
  },
  {
   "cell_type": "code",
   "execution_count": 68,
   "metadata": {},
   "outputs": [
    {
     "data": {
      "application/vnd.plotly.v1+json": {
       "config": {
        "plotlyServerURL": "https://plot.ly"
       },
       "data": [
        {
         "alignmentgroup": "True",
         "hovertemplate": "Crop Type=C<br>Year=%{x}<br>Quantity=%{y}<extra></extra>",
         "legendgroup": "C",
         "marker": {
          "color": "#636efa",
          "pattern": {
           "shape": ""
          }
         },
         "name": "C",
         "offsetgroup": "C",
         "orientation": "v",
         "showlegend": true,
         "textposition": "auto",
         "type": "bar",
         "x": [
          "2016",
          "2018",
          "2020",
          "2021",
          "2022",
          "2016",
          "2018",
          "2020",
          "2021",
          "2022",
          "2016",
          "2018",
          "2020",
          "2021",
          "2022"
         ],
         "xaxis": "x",
         "y": [
          229142.56556213,
          239026.02262,
          252568.06755247,
          246996.10268837,
          257137.97408093,
          13156.17496676,
          12953.54364,
          15752.60209609,
          16820.33672368,
          17137.93234106,
          38904.77014311,
          38487.14258,
          40466.88777049,
          42412.170652,
          42678.40206387
         ],
         "yaxis": "y"
        },
        {
         "alignmentgroup": "True",
         "hovertemplate": "Crop Type=D<br>Year=%{x}<br>Quantity=%{y}<extra></extra>",
         "legendgroup": "D",
         "marker": {
          "color": "#EF553B",
          "pattern": {
           "shape": ""
          }
         },
         "name": "D",
         "offsetgroup": "D",
         "orientation": "v",
         "showlegend": true,
         "textposition": "auto",
         "type": "bar",
         "x": [
          "2016",
          "2018",
          "2020",
          "2021",
          "2022",
          "2016",
          "2018",
          "2020",
          "2021",
          "2022",
          "2016",
          "2018",
          "2020",
          "2021",
          "2022"
         ],
         "xaxis": "x",
         "y": [
          934775.14221074,
          1056062.51967,
          1172431.52840839,
          1167538.41597122,
          1216251.96100084,
          758382.41507703,
          838272.08612144,
          908973.71919338,
          919353.38439051,
          941967.09147304,
          489531.82633979,
          545310.65169774,
          585110.40093859,
          609209.59454354,
          620747.24516922
         ],
         "yaxis": "y"
        },
        {
         "alignmentgroup": "True",
         "hovertemplate": "Crop Type=F<br>Year=%{x}<br>Quantity=%{y}<extra></extra>",
         "legendgroup": "F",
         "marker": {
          "color": "#00cc96",
          "pattern": {
           "shape": ""
          }
         },
         "name": "F",
         "offsetgroup": "F",
         "orientation": "v",
         "showlegend": true,
         "textposition": "auto",
         "type": "bar",
         "x": [
          "2016",
          "2018",
          "2020",
          "2021",
          "2022",
          "2016",
          "2018",
          "2020",
          "2021",
          "2022",
          "2016",
          "2018",
          "2020",
          "2021",
          "2022"
         ],
         "xaxis": "x",
         "y": [
          448653.54973127,
          477633.99083,
          396499.98785517,
          338240.35316258,
          353973.13472016,
          350053.78672125,
          339954.37964,
          317957.36220567,
          289854.27733275,
          288711.79973496,
          144607.12729679,
          157315.40317,
          137556.704559,
          115260.90168338,
          101710.27257043
         ],
         "yaxis": "y"
        },
        {
         "alignmentgroup": "True",
         "hovertemplate": "Crop Type=G<br>Year=%{x}<br>Quantity=%{y}<extra></extra>",
         "legendgroup": "G",
         "marker": {
          "color": "#ab63fa",
          "pattern": {
           "shape": ""
          }
         },
         "name": "G",
         "offsetgroup": "G",
         "orientation": "v",
         "showlegend": true,
         "textposition": "auto",
         "type": "bar",
         "x": [
          "2016",
          "2018",
          "2020",
          "2021",
          "2022",
          "2016",
          "2018",
          "2020",
          "2021",
          "2022",
          "2016",
          "2018",
          "2020",
          "2021",
          "2022"
         ],
         "xaxis": "x",
         "y": [
          223282.16322946,
          146119.28991,
          147225.09314417,
          112271.87520304,
          128560.94673733,
          119716.02397576,
          123139.17527,
          106649.79403783,
          104874.35921034,
          100671.89988425,
          135122.78559974,
          176617.12094,
          159292.72293786,
          143198.85343928,
          162729.73417293
         ],
         "yaxis": "y"
        },
        {
         "alignmentgroup": "True",
         "hovertemplate": "Crop Type=P<br>Year=%{x}<br>Quantity=%{y}<extra></extra>",
         "legendgroup": "P",
         "marker": {
          "color": "#FFA15A",
          "pattern": {
           "shape": ""
          }
         },
         "name": "P",
         "offsetgroup": "P",
         "orientation": "v",
         "showlegend": true,
         "textposition": "auto",
         "type": "bar",
         "x": [
          "2016",
          "2018",
          "2020",
          "2021",
          "2022",
          "2016",
          "2018",
          "2020",
          "2021",
          "2022",
          "2016",
          "2018",
          "2020",
          "2021",
          "2022"
         ],
         "xaxis": "x",
         "y": [
          190178.14598098,
          149758.95888,
          143921.83420861,
          136627.47716113,
          114974.40550301,
          271802.09934653,
          236828.95456,
          227952.19368313,
          225619.61104792,
          206622.32407503,
          364754.52625976,
          348851.2372802,
          414146.58655957,
          407820.40192024,
          418551.32010227
         ],
         "yaxis": "y"
        },
        {
         "alignmentgroup": "True",
         "hovertemplate": "Crop Type=T<br>Year=%{x}<br>Quantity=%{y}<extra></extra>",
         "legendgroup": "T",
         "marker": {
          "color": "#19d3f3",
          "pattern": {
           "shape": ""
          }
         },
         "name": "T",
         "offsetgroup": "T",
         "orientation": "v",
         "showlegend": true,
         "textposition": "auto",
         "type": "bar",
         "x": [
          "2016",
          "2018",
          "2020",
          "2021",
          "2022",
          "2016",
          "2018",
          "2020",
          "2021",
          "2022",
          "2016",
          "2018",
          "2020",
          "2021",
          "2022"
         ],
         "xaxis": "x",
         "y": [
          249453.67347231,
          244009.39461,
          235445.80867043,
          212956.33534857,
          191238.60779123,
          158572.41275147,
          151116.99537,
          128350.24012013,
          139226.382596,
          135436.68476379,
          109031.84059682,
          101108.69067,
          94052.88335166,
          100208.35660276,
          100227.76702967
         ],
         "yaxis": "y"
        },
        {
         "alignmentgroup": "True",
         "hovertemplate": "Crop Type=V<br>Year=%{x}<br>Quantity=%{y}<extra></extra>",
         "legendgroup": "V",
         "marker": {
          "color": "#FF6692",
          "pattern": {
           "shape": ""
          }
         },
         "name": "V",
         "offsetgroup": "V",
         "orientation": "v",
         "showlegend": true,
         "textposition": "auto",
         "type": "bar",
         "x": [
          "2016",
          "2018",
          "2020",
          "2021",
          "2022",
          "2016",
          "2018",
          "2020",
          "2021",
          "2022",
          "2016",
          "2018",
          "2020",
          "2021",
          "2022"
         ],
         "xaxis": "x",
         "y": [
          338664.25225945,
          315456.7656,
          279598.29201901,
          265480.15682146,
          255139.88555377,
          215941.03010191,
          210360.73855,
          195797.47286893,
          193101.35174201,
          191413.79289299,
          53074.56392543,
          56800.68481533,
          57380.31961481,
          56943.7174206,
          56645.09372151
         ],
         "yaxis": "y"
        },
        {
         "alignmentgroup": "True",
         "hovertemplate": "Crop Type=YP<br>Year=%{x}<br>Quantity=%{y}<extra></extra>",
         "legendgroup": "YP",
         "marker": {
          "color": "#B6E880",
          "pattern": {
           "shape": ""
          }
         },
         "name": "YP",
         "offsetgroup": "YP",
         "orientation": "v",
         "showlegend": true,
         "textposition": "auto",
         "type": "bar",
         "x": [
          "2016",
          "2018",
          "2020",
          "2021",
          "2022",
          "2016",
          "2018",
          "2020",
          "2021",
          "2022",
          "2016",
          "2018",
          "2020",
          "2021",
          "2022"
         ],
         "xaxis": "x",
         "y": [
          103962.9018861,
          72721.5606,
          27387.54225204,
          47640.94145933,
          60176.51069954,
          57809.00794153,
          44341.55967,
          31847.35272258,
          44767.797787819996,
          52205.51980157,
          58233.15319356,
          41573.27908,
          41489.45604946,
          27657.58929977,
          28414.89688281
         ],
         "yaxis": "y"
        },
        {
         "alignmentgroup": "True",
         "hovertemplate": "Crop Type=R<br>Year=%{x}<br>Quantity=%{y}<extra></extra>",
         "legendgroup": "R",
         "marker": {
          "color": "#FF97FF",
          "pattern": {
           "shape": ""
          }
         },
         "name": "R",
         "offsetgroup": "R",
         "orientation": "v",
         "showlegend": true,
         "textposition": "auto",
         "type": "bar",
         "x": [
          "2016",
          "2018",
          "2020",
          "2021",
          "2022",
          "2016",
          "2018",
          "2020",
          "2021",
          "2022",
          "2016",
          "2018",
          "2020",
          "2021",
          "2022"
         ],
         "xaxis": "x",
         "y": [
          null,
          null,
          null,
          null,
          null,
          7638.15015641,
          6398.39664,
          7967.39225934,
          9592.95995288,
          11000.00205639,
          549680.74385544,
          508303.77073,
          515104.2575672,
          405997.67268332,
          249396.57125629
         ],
         "yaxis": "y"
        }
       ],
       "layout": {
        "barmode": "group",
        "height": 600,
        "legend": {
         "title": {
          "text": "Crop Type"
         },
         "tracegroupgap": 0
        },
        "template": {
         "data": {
          "bar": [
           {
            "error_x": {
             "color": "#2a3f5f"
            },
            "error_y": {
             "color": "#2a3f5f"
            },
            "marker": {
             "line": {
              "color": "#E5ECF6",
              "width": 0.5
             },
             "pattern": {
              "fillmode": "overlay",
              "size": 10,
              "solidity": 0.2
             }
            },
            "type": "bar"
           }
          ],
          "barpolar": [
           {
            "marker": {
             "line": {
              "color": "#E5ECF6",
              "width": 0.5
             },
             "pattern": {
              "fillmode": "overlay",
              "size": 10,
              "solidity": 0.2
             }
            },
            "type": "barpolar"
           }
          ],
          "carpet": [
           {
            "aaxis": {
             "endlinecolor": "#2a3f5f",
             "gridcolor": "white",
             "linecolor": "white",
             "minorgridcolor": "white",
             "startlinecolor": "#2a3f5f"
            },
            "baxis": {
             "endlinecolor": "#2a3f5f",
             "gridcolor": "white",
             "linecolor": "white",
             "minorgridcolor": "white",
             "startlinecolor": "#2a3f5f"
            },
            "type": "carpet"
           }
          ],
          "choropleth": [
           {
            "colorbar": {
             "outlinewidth": 0,
             "ticks": ""
            },
            "type": "choropleth"
           }
          ],
          "contour": [
           {
            "colorbar": {
             "outlinewidth": 0,
             "ticks": ""
            },
            "colorscale": [
             [
              0,
              "#0d0887"
             ],
             [
              0.1111111111111111,
              "#46039f"
             ],
             [
              0.2222222222222222,
              "#7201a8"
             ],
             [
              0.3333333333333333,
              "#9c179e"
             ],
             [
              0.4444444444444444,
              "#bd3786"
             ],
             [
              0.5555555555555556,
              "#d8576b"
             ],
             [
              0.6666666666666666,
              "#ed7953"
             ],
             [
              0.7777777777777778,
              "#fb9f3a"
             ],
             [
              0.8888888888888888,
              "#fdca26"
             ],
             [
              1,
              "#f0f921"
             ]
            ],
            "type": "contour"
           }
          ],
          "contourcarpet": [
           {
            "colorbar": {
             "outlinewidth": 0,
             "ticks": ""
            },
            "type": "contourcarpet"
           }
          ],
          "heatmap": [
           {
            "colorbar": {
             "outlinewidth": 0,
             "ticks": ""
            },
            "colorscale": [
             [
              0,
              "#0d0887"
             ],
             [
              0.1111111111111111,
              "#46039f"
             ],
             [
              0.2222222222222222,
              "#7201a8"
             ],
             [
              0.3333333333333333,
              "#9c179e"
             ],
             [
              0.4444444444444444,
              "#bd3786"
             ],
             [
              0.5555555555555556,
              "#d8576b"
             ],
             [
              0.6666666666666666,
              "#ed7953"
             ],
             [
              0.7777777777777778,
              "#fb9f3a"
             ],
             [
              0.8888888888888888,
              "#fdca26"
             ],
             [
              1,
              "#f0f921"
             ]
            ],
            "type": "heatmap"
           }
          ],
          "heatmapgl": [
           {
            "colorbar": {
             "outlinewidth": 0,
             "ticks": ""
            },
            "colorscale": [
             [
              0,
              "#0d0887"
             ],
             [
              0.1111111111111111,
              "#46039f"
             ],
             [
              0.2222222222222222,
              "#7201a8"
             ],
             [
              0.3333333333333333,
              "#9c179e"
             ],
             [
              0.4444444444444444,
              "#bd3786"
             ],
             [
              0.5555555555555556,
              "#d8576b"
             ],
             [
              0.6666666666666666,
              "#ed7953"
             ],
             [
              0.7777777777777778,
              "#fb9f3a"
             ],
             [
              0.8888888888888888,
              "#fdca26"
             ],
             [
              1,
              "#f0f921"
             ]
            ],
            "type": "heatmapgl"
           }
          ],
          "histogram": [
           {
            "marker": {
             "pattern": {
              "fillmode": "overlay",
              "size": 10,
              "solidity": 0.2
             }
            },
            "type": "histogram"
           }
          ],
          "histogram2d": [
           {
            "colorbar": {
             "outlinewidth": 0,
             "ticks": ""
            },
            "colorscale": [
             [
              0,
              "#0d0887"
             ],
             [
              0.1111111111111111,
              "#46039f"
             ],
             [
              0.2222222222222222,
              "#7201a8"
             ],
             [
              0.3333333333333333,
              "#9c179e"
             ],
             [
              0.4444444444444444,
              "#bd3786"
             ],
             [
              0.5555555555555556,
              "#d8576b"
             ],
             [
              0.6666666666666666,
              "#ed7953"
             ],
             [
              0.7777777777777778,
              "#fb9f3a"
             ],
             [
              0.8888888888888888,
              "#fdca26"
             ],
             [
              1,
              "#f0f921"
             ]
            ],
            "type": "histogram2d"
           }
          ],
          "histogram2dcontour": [
           {
            "colorbar": {
             "outlinewidth": 0,
             "ticks": ""
            },
            "colorscale": [
             [
              0,
              "#0d0887"
             ],
             [
              0.1111111111111111,
              "#46039f"
             ],
             [
              0.2222222222222222,
              "#7201a8"
             ],
             [
              0.3333333333333333,
              "#9c179e"
             ],
             [
              0.4444444444444444,
              "#bd3786"
             ],
             [
              0.5555555555555556,
              "#d8576b"
             ],
             [
              0.6666666666666666,
              "#ed7953"
             ],
             [
              0.7777777777777778,
              "#fb9f3a"
             ],
             [
              0.8888888888888888,
              "#fdca26"
             ],
             [
              1,
              "#f0f921"
             ]
            ],
            "type": "histogram2dcontour"
           }
          ],
          "mesh3d": [
           {
            "colorbar": {
             "outlinewidth": 0,
             "ticks": ""
            },
            "type": "mesh3d"
           }
          ],
          "parcoords": [
           {
            "line": {
             "colorbar": {
              "outlinewidth": 0,
              "ticks": ""
             }
            },
            "type": "parcoords"
           }
          ],
          "pie": [
           {
            "automargin": true,
            "type": "pie"
           }
          ],
          "scatter": [
           {
            "fillpattern": {
             "fillmode": "overlay",
             "size": 10,
             "solidity": 0.2
            },
            "type": "scatter"
           }
          ],
          "scatter3d": [
           {
            "line": {
             "colorbar": {
              "outlinewidth": 0,
              "ticks": ""
             }
            },
            "marker": {
             "colorbar": {
              "outlinewidth": 0,
              "ticks": ""
             }
            },
            "type": "scatter3d"
           }
          ],
          "scattercarpet": [
           {
            "marker": {
             "colorbar": {
              "outlinewidth": 0,
              "ticks": ""
             }
            },
            "type": "scattercarpet"
           }
          ],
          "scattergeo": [
           {
            "marker": {
             "colorbar": {
              "outlinewidth": 0,
              "ticks": ""
             }
            },
            "type": "scattergeo"
           }
          ],
          "scattergl": [
           {
            "marker": {
             "colorbar": {
              "outlinewidth": 0,
              "ticks": ""
             }
            },
            "type": "scattergl"
           }
          ],
          "scattermapbox": [
           {
            "marker": {
             "colorbar": {
              "outlinewidth": 0,
              "ticks": ""
             }
            },
            "type": "scattermapbox"
           }
          ],
          "scatterpolar": [
           {
            "marker": {
             "colorbar": {
              "outlinewidth": 0,
              "ticks": ""
             }
            },
            "type": "scatterpolar"
           }
          ],
          "scatterpolargl": [
           {
            "marker": {
             "colorbar": {
              "outlinewidth": 0,
              "ticks": ""
             }
            },
            "type": "scatterpolargl"
           }
          ],
          "scatterternary": [
           {
            "marker": {
             "colorbar": {
              "outlinewidth": 0,
              "ticks": ""
             }
            },
            "type": "scatterternary"
           }
          ],
          "surface": [
           {
            "colorbar": {
             "outlinewidth": 0,
             "ticks": ""
            },
            "colorscale": [
             [
              0,
              "#0d0887"
             ],
             [
              0.1111111111111111,
              "#46039f"
             ],
             [
              0.2222222222222222,
              "#7201a8"
             ],
             [
              0.3333333333333333,
              "#9c179e"
             ],
             [
              0.4444444444444444,
              "#bd3786"
             ],
             [
              0.5555555555555556,
              "#d8576b"
             ],
             [
              0.6666666666666666,
              "#ed7953"
             ],
             [
              0.7777777777777778,
              "#fb9f3a"
             ],
             [
              0.8888888888888888,
              "#fdca26"
             ],
             [
              1,
              "#f0f921"
             ]
            ],
            "type": "surface"
           }
          ],
          "table": [
           {
            "cells": {
             "fill": {
              "color": "#EBF0F8"
             },
             "line": {
              "color": "white"
             }
            },
            "header": {
             "fill": {
              "color": "#C8D4E3"
             },
             "line": {
              "color": "white"
             }
            },
            "type": "table"
           }
          ]
         },
         "layout": {
          "annotationdefaults": {
           "arrowcolor": "#2a3f5f",
           "arrowhead": 0,
           "arrowwidth": 1
          },
          "autotypenumbers": "strict",
          "coloraxis": {
           "colorbar": {
            "outlinewidth": 0,
            "ticks": ""
           }
          },
          "colorscale": {
           "diverging": [
            [
             0,
             "#8e0152"
            ],
            [
             0.1,
             "#c51b7d"
            ],
            [
             0.2,
             "#de77ae"
            ],
            [
             0.3,
             "#f1b6da"
            ],
            [
             0.4,
             "#fde0ef"
            ],
            [
             0.5,
             "#f7f7f7"
            ],
            [
             0.6,
             "#e6f5d0"
            ],
            [
             0.7,
             "#b8e186"
            ],
            [
             0.8,
             "#7fbc41"
            ],
            [
             0.9,
             "#4d9221"
            ],
            [
             1,
             "#276419"
            ]
           ],
           "sequential": [
            [
             0,
             "#0d0887"
            ],
            [
             0.1111111111111111,
             "#46039f"
            ],
            [
             0.2222222222222222,
             "#7201a8"
            ],
            [
             0.3333333333333333,
             "#9c179e"
            ],
            [
             0.4444444444444444,
             "#bd3786"
            ],
            [
             0.5555555555555556,
             "#d8576b"
            ],
            [
             0.6666666666666666,
             "#ed7953"
            ],
            [
             0.7777777777777778,
             "#fb9f3a"
            ],
            [
             0.8888888888888888,
             "#fdca26"
            ],
            [
             1,
             "#f0f921"
            ]
           ],
           "sequentialminus": [
            [
             0,
             "#0d0887"
            ],
            [
             0.1111111111111111,
             "#46039f"
            ],
            [
             0.2222222222222222,
             "#7201a8"
            ],
            [
             0.3333333333333333,
             "#9c179e"
            ],
            [
             0.4444444444444444,
             "#bd3786"
            ],
            [
             0.5555555555555556,
             "#d8576b"
            ],
            [
             0.6666666666666666,
             "#ed7953"
            ],
            [
             0.7777777777777778,
             "#fb9f3a"
            ],
            [
             0.8888888888888888,
             "#fdca26"
            ],
            [
             1,
             "#f0f921"
            ]
           ]
          },
          "colorway": [
           "#636efa",
           "#EF553B",
           "#00cc96",
           "#ab63fa",
           "#FFA15A",
           "#19d3f3",
           "#FF6692",
           "#B6E880",
           "#FF97FF",
           "#FECB52"
          ],
          "font": {
           "color": "#2a3f5f"
          },
          "geo": {
           "bgcolor": "white",
           "lakecolor": "white",
           "landcolor": "#E5ECF6",
           "showlakes": true,
           "showland": true,
           "subunitcolor": "white"
          },
          "hoverlabel": {
           "align": "left"
          },
          "hovermode": "closest",
          "mapbox": {
           "style": "light"
          },
          "paper_bgcolor": "white",
          "plot_bgcolor": "#E5ECF6",
          "polar": {
           "angularaxis": {
            "gridcolor": "white",
            "linecolor": "white",
            "ticks": ""
           },
           "bgcolor": "#E5ECF6",
           "radialaxis": {
            "gridcolor": "white",
            "linecolor": "white",
            "ticks": ""
           }
          },
          "scene": {
           "xaxis": {
            "backgroundcolor": "#E5ECF6",
            "gridcolor": "white",
            "gridwidth": 2,
            "linecolor": "white",
            "showbackground": true,
            "ticks": "",
            "zerolinecolor": "white"
           },
           "yaxis": {
            "backgroundcolor": "#E5ECF6",
            "gridcolor": "white",
            "gridwidth": 2,
            "linecolor": "white",
            "showbackground": true,
            "ticks": "",
            "zerolinecolor": "white"
           },
           "zaxis": {
            "backgroundcolor": "#E5ECF6",
            "gridcolor": "white",
            "gridwidth": 2,
            "linecolor": "white",
            "showbackground": true,
            "ticks": "",
            "zerolinecolor": "white"
           }
          },
          "shapedefaults": {
           "line": {
            "color": "#2a3f5f"
           }
          },
          "ternary": {
           "aaxis": {
            "gridcolor": "white",
            "linecolor": "white",
            "ticks": ""
           },
           "baxis": {
            "gridcolor": "white",
            "linecolor": "white",
            "ticks": ""
           },
           "bgcolor": "#E5ECF6",
           "caxis": {
            "gridcolor": "white",
            "linecolor": "white",
            "ticks": ""
           }
          },
          "title": {
           "x": 0.05
          },
          "xaxis": {
           "automargin": true,
           "gridcolor": "white",
           "linecolor": "white",
           "ticks": "",
           "title": {
            "standoff": 15
           },
           "zerolinecolor": "white",
           "zerolinewidth": 2
          },
          "yaxis": {
           "automargin": true,
           "gridcolor": "white",
           "linecolor": "white",
           "ticks": "",
           "title": {
            "standoff": 15
           },
           "zerolinecolor": "white",
           "zerolinewidth": 2
          }
         }
        },
        "title": {
         "text": "Crop Distribution Change in 3 AG Regions"
        },
        "xaxis": {
         "anchor": "y",
         "domain": [
          0,
          1
         ],
         "title": {
          "text": "Year"
         }
        },
        "yaxis": {
         "anchor": "x",
         "domain": [
          0,
          1
         ],
         "title": {
          "text": "Quantity"
         }
        }
       }
      }
     },
     "metadata": {},
     "output_type": "display_data"
    }
   ],
   "source": [
    "meta_df_crops_selected = meta_df_crops.loc[meta_df_crops['Region'].isin(['Tulare Lake', 'San Joaquin River', 'Sacramento River'])]\n",
    "# Create the bar plot with color based on DataFrame column\n",
    "fig = px.bar(meta_df_crops_selected, x='Year', y='value',\n",
    "             title=\"Crop Distribution Change in 3 AG Regions\",\n",
    "             labels={'index': 'Crop Type', 'value': 'Quantity'},\n",
    "             color='Crop Type', \n",
    "             height=600, barmode='group')\n",
    "\n",
    "# Show the plot\n",
    "fig.show()"
   ]
  },
  {
   "cell_type": "code",
   "execution_count": 136,
   "metadata": {},
   "outputs": [
    {
     "data": {
      "application/vnd.plotly.v1+json": {
       "config": {
        "plotlyServerURL": "https://plot.ly"
       },
       "data": [
        {
         "alignmentgroup": "True",
         "hovertemplate": "Year=2020<br>Crop Type=%{x}<br>Crop Quantity=%{y}<extra></extra>",
         "legendgroup": "2020",
         "marker": {
          "color": "#636efa",
          "pattern": {
           "shape": ""
          }
         },
         "name": "2020",
         "offsetgroup": "2020",
         "orientation": "v",
         "showlegend": true,
         "textposition": "auto",
         "type": "bar",
         "x": [
          "C",
          "D",
          "F",
          "G",
          "P",
          "R",
          "T",
          "V",
          "YP"
         ],
         "xaxis": "x",
         "y": [
          308787.55741905,
          2666515.64854036,
          852014.05461984,
          413167.61011986004,
          786020.61445131,
          523071.64982654,
          457848.93214222,
          532776.08450275,
          100724.35102408
         ],
         "yaxis": "y"
        },
        {
         "alignmentgroup": "True",
         "hovertemplate": "Year=2021<br>Crop Type=%{x}<br>Crop Quantity=%{y}<extra></extra>",
         "legendgroup": "2021",
         "marker": {
          "color": "#EF553B",
          "pattern": {
           "shape": ""
          }
         },
         "name": "2021",
         "offsetgroup": "2021",
         "orientation": "v",
         "showlegend": true,
         "textposition": "auto",
         "type": "bar",
         "x": [
          "C",
          "D",
          "F",
          "G",
          "P",
          "R",
          "T",
          "V",
          "YP"
         ],
         "xaxis": "x",
         "y": [
          306228.61006405,
          2696101.39490527,
          743355.53217871,
          360345.08785266,
          770067.49012929,
          415590.6326362,
          452391.07454733003,
          515525.22598407,
          120066.32854692
         ],
         "yaxis": "y"
        },
        {
         "alignmentgroup": "True",
         "hovertemplate": "Year=2022<br>Crop Type=%{x}<br>Crop Quantity=%{y}<extra></extra>",
         "legendgroup": "2022",
         "marker": {
          "color": "#00cc96",
          "pattern": {
           "shape": ""
          }
         },
         "name": "2022",
         "offsetgroup": "2022",
         "orientation": "v",
         "showlegend": true,
         "textposition": "auto",
         "type": "bar",
         "x": [
          "C",
          "D",
          "F",
          "G",
          "P",
          "R",
          "T",
          "V",
          "YP"
         ],
         "xaxis": "x",
         "y": [
          316954.30848586,
          2778966.2976431,
          744395.20702555,
          391962.58079451,
          740148.04968031,
          260396.57331267998,
          426903.05958468997,
          503198.77216826996,
          140796.92738392
         ],
         "yaxis": "y"
        }
       ],
       "layout": {
        "barmode": "group",
        "height": 600,
        "legend": {
         "title": {
          "text": "Year"
         },
         "tracegroupgap": 0
        },
        "template": {
         "data": {
          "bar": [
           {
            "error_x": {
             "color": "#2a3f5f"
            },
            "error_y": {
             "color": "#2a3f5f"
            },
            "marker": {
             "line": {
              "color": "#E5ECF6",
              "width": 0.5
             },
             "pattern": {
              "fillmode": "overlay",
              "size": 10,
              "solidity": 0.2
             }
            },
            "type": "bar"
           }
          ],
          "barpolar": [
           {
            "marker": {
             "line": {
              "color": "#E5ECF6",
              "width": 0.5
             },
             "pattern": {
              "fillmode": "overlay",
              "size": 10,
              "solidity": 0.2
             }
            },
            "type": "barpolar"
           }
          ],
          "carpet": [
           {
            "aaxis": {
             "endlinecolor": "#2a3f5f",
             "gridcolor": "white",
             "linecolor": "white",
             "minorgridcolor": "white",
             "startlinecolor": "#2a3f5f"
            },
            "baxis": {
             "endlinecolor": "#2a3f5f",
             "gridcolor": "white",
             "linecolor": "white",
             "minorgridcolor": "white",
             "startlinecolor": "#2a3f5f"
            },
            "type": "carpet"
           }
          ],
          "choropleth": [
           {
            "colorbar": {
             "outlinewidth": 0,
             "ticks": ""
            },
            "type": "choropleth"
           }
          ],
          "contour": [
           {
            "colorbar": {
             "outlinewidth": 0,
             "ticks": ""
            },
            "colorscale": [
             [
              0,
              "#0d0887"
             ],
             [
              0.1111111111111111,
              "#46039f"
             ],
             [
              0.2222222222222222,
              "#7201a8"
             ],
             [
              0.3333333333333333,
              "#9c179e"
             ],
             [
              0.4444444444444444,
              "#bd3786"
             ],
             [
              0.5555555555555556,
              "#d8576b"
             ],
             [
              0.6666666666666666,
              "#ed7953"
             ],
             [
              0.7777777777777778,
              "#fb9f3a"
             ],
             [
              0.8888888888888888,
              "#fdca26"
             ],
             [
              1,
              "#f0f921"
             ]
            ],
            "type": "contour"
           }
          ],
          "contourcarpet": [
           {
            "colorbar": {
             "outlinewidth": 0,
             "ticks": ""
            },
            "type": "contourcarpet"
           }
          ],
          "heatmap": [
           {
            "colorbar": {
             "outlinewidth": 0,
             "ticks": ""
            },
            "colorscale": [
             [
              0,
              "#0d0887"
             ],
             [
              0.1111111111111111,
              "#46039f"
             ],
             [
              0.2222222222222222,
              "#7201a8"
             ],
             [
              0.3333333333333333,
              "#9c179e"
             ],
             [
              0.4444444444444444,
              "#bd3786"
             ],
             [
              0.5555555555555556,
              "#d8576b"
             ],
             [
              0.6666666666666666,
              "#ed7953"
             ],
             [
              0.7777777777777778,
              "#fb9f3a"
             ],
             [
              0.8888888888888888,
              "#fdca26"
             ],
             [
              1,
              "#f0f921"
             ]
            ],
            "type": "heatmap"
           }
          ],
          "heatmapgl": [
           {
            "colorbar": {
             "outlinewidth": 0,
             "ticks": ""
            },
            "colorscale": [
             [
              0,
              "#0d0887"
             ],
             [
              0.1111111111111111,
              "#46039f"
             ],
             [
              0.2222222222222222,
              "#7201a8"
             ],
             [
              0.3333333333333333,
              "#9c179e"
             ],
             [
              0.4444444444444444,
              "#bd3786"
             ],
             [
              0.5555555555555556,
              "#d8576b"
             ],
             [
              0.6666666666666666,
              "#ed7953"
             ],
             [
              0.7777777777777778,
              "#fb9f3a"
             ],
             [
              0.8888888888888888,
              "#fdca26"
             ],
             [
              1,
              "#f0f921"
             ]
            ],
            "type": "heatmapgl"
           }
          ],
          "histogram": [
           {
            "marker": {
             "pattern": {
              "fillmode": "overlay",
              "size": 10,
              "solidity": 0.2
             }
            },
            "type": "histogram"
           }
          ],
          "histogram2d": [
           {
            "colorbar": {
             "outlinewidth": 0,
             "ticks": ""
            },
            "colorscale": [
             [
              0,
              "#0d0887"
             ],
             [
              0.1111111111111111,
              "#46039f"
             ],
             [
              0.2222222222222222,
              "#7201a8"
             ],
             [
              0.3333333333333333,
              "#9c179e"
             ],
             [
              0.4444444444444444,
              "#bd3786"
             ],
             [
              0.5555555555555556,
              "#d8576b"
             ],
             [
              0.6666666666666666,
              "#ed7953"
             ],
             [
              0.7777777777777778,
              "#fb9f3a"
             ],
             [
              0.8888888888888888,
              "#fdca26"
             ],
             [
              1,
              "#f0f921"
             ]
            ],
            "type": "histogram2d"
           }
          ],
          "histogram2dcontour": [
           {
            "colorbar": {
             "outlinewidth": 0,
             "ticks": ""
            },
            "colorscale": [
             [
              0,
              "#0d0887"
             ],
             [
              0.1111111111111111,
              "#46039f"
             ],
             [
              0.2222222222222222,
              "#7201a8"
             ],
             [
              0.3333333333333333,
              "#9c179e"
             ],
             [
              0.4444444444444444,
              "#bd3786"
             ],
             [
              0.5555555555555556,
              "#d8576b"
             ],
             [
              0.6666666666666666,
              "#ed7953"
             ],
             [
              0.7777777777777778,
              "#fb9f3a"
             ],
             [
              0.8888888888888888,
              "#fdca26"
             ],
             [
              1,
              "#f0f921"
             ]
            ],
            "type": "histogram2dcontour"
           }
          ],
          "mesh3d": [
           {
            "colorbar": {
             "outlinewidth": 0,
             "ticks": ""
            },
            "type": "mesh3d"
           }
          ],
          "parcoords": [
           {
            "line": {
             "colorbar": {
              "outlinewidth": 0,
              "ticks": ""
             }
            },
            "type": "parcoords"
           }
          ],
          "pie": [
           {
            "automargin": true,
            "type": "pie"
           }
          ],
          "scatter": [
           {
            "fillpattern": {
             "fillmode": "overlay",
             "size": 10,
             "solidity": 0.2
            },
            "type": "scatter"
           }
          ],
          "scatter3d": [
           {
            "line": {
             "colorbar": {
              "outlinewidth": 0,
              "ticks": ""
             }
            },
            "marker": {
             "colorbar": {
              "outlinewidth": 0,
              "ticks": ""
             }
            },
            "type": "scatter3d"
           }
          ],
          "scattercarpet": [
           {
            "marker": {
             "colorbar": {
              "outlinewidth": 0,
              "ticks": ""
             }
            },
            "type": "scattercarpet"
           }
          ],
          "scattergeo": [
           {
            "marker": {
             "colorbar": {
              "outlinewidth": 0,
              "ticks": ""
             }
            },
            "type": "scattergeo"
           }
          ],
          "scattergl": [
           {
            "marker": {
             "colorbar": {
              "outlinewidth": 0,
              "ticks": ""
             }
            },
            "type": "scattergl"
           }
          ],
          "scattermapbox": [
           {
            "marker": {
             "colorbar": {
              "outlinewidth": 0,
              "ticks": ""
             }
            },
            "type": "scattermapbox"
           }
          ],
          "scatterpolar": [
           {
            "marker": {
             "colorbar": {
              "outlinewidth": 0,
              "ticks": ""
             }
            },
            "type": "scatterpolar"
           }
          ],
          "scatterpolargl": [
           {
            "marker": {
             "colorbar": {
              "outlinewidth": 0,
              "ticks": ""
             }
            },
            "type": "scatterpolargl"
           }
          ],
          "scatterternary": [
           {
            "marker": {
             "colorbar": {
              "outlinewidth": 0,
              "ticks": ""
             }
            },
            "type": "scatterternary"
           }
          ],
          "surface": [
           {
            "colorbar": {
             "outlinewidth": 0,
             "ticks": ""
            },
            "colorscale": [
             [
              0,
              "#0d0887"
             ],
             [
              0.1111111111111111,
              "#46039f"
             ],
             [
              0.2222222222222222,
              "#7201a8"
             ],
             [
              0.3333333333333333,
              "#9c179e"
             ],
             [
              0.4444444444444444,
              "#bd3786"
             ],
             [
              0.5555555555555556,
              "#d8576b"
             ],
             [
              0.6666666666666666,
              "#ed7953"
             ],
             [
              0.7777777777777778,
              "#fb9f3a"
             ],
             [
              0.8888888888888888,
              "#fdca26"
             ],
             [
              1,
              "#f0f921"
             ]
            ],
            "type": "surface"
           }
          ],
          "table": [
           {
            "cells": {
             "fill": {
              "color": "#EBF0F8"
             },
             "line": {
              "color": "white"
             }
            },
            "header": {
             "fill": {
              "color": "#C8D4E3"
             },
             "line": {
              "color": "white"
             }
            },
            "type": "table"
           }
          ]
         },
         "layout": {
          "annotationdefaults": {
           "arrowcolor": "#2a3f5f",
           "arrowhead": 0,
           "arrowwidth": 1
          },
          "autotypenumbers": "strict",
          "coloraxis": {
           "colorbar": {
            "outlinewidth": 0,
            "ticks": ""
           }
          },
          "colorscale": {
           "diverging": [
            [
             0,
             "#8e0152"
            ],
            [
             0.1,
             "#c51b7d"
            ],
            [
             0.2,
             "#de77ae"
            ],
            [
             0.3,
             "#f1b6da"
            ],
            [
             0.4,
             "#fde0ef"
            ],
            [
             0.5,
             "#f7f7f7"
            ],
            [
             0.6,
             "#e6f5d0"
            ],
            [
             0.7,
             "#b8e186"
            ],
            [
             0.8,
             "#7fbc41"
            ],
            [
             0.9,
             "#4d9221"
            ],
            [
             1,
             "#276419"
            ]
           ],
           "sequential": [
            [
             0,
             "#0d0887"
            ],
            [
             0.1111111111111111,
             "#46039f"
            ],
            [
             0.2222222222222222,
             "#7201a8"
            ],
            [
             0.3333333333333333,
             "#9c179e"
            ],
            [
             0.4444444444444444,
             "#bd3786"
            ],
            [
             0.5555555555555556,
             "#d8576b"
            ],
            [
             0.6666666666666666,
             "#ed7953"
            ],
            [
             0.7777777777777778,
             "#fb9f3a"
            ],
            [
             0.8888888888888888,
             "#fdca26"
            ],
            [
             1,
             "#f0f921"
            ]
           ],
           "sequentialminus": [
            [
             0,
             "#0d0887"
            ],
            [
             0.1111111111111111,
             "#46039f"
            ],
            [
             0.2222222222222222,
             "#7201a8"
            ],
            [
             0.3333333333333333,
             "#9c179e"
            ],
            [
             0.4444444444444444,
             "#bd3786"
            ],
            [
             0.5555555555555556,
             "#d8576b"
            ],
            [
             0.6666666666666666,
             "#ed7953"
            ],
            [
             0.7777777777777778,
             "#fb9f3a"
            ],
            [
             0.8888888888888888,
             "#fdca26"
            ],
            [
             1,
             "#f0f921"
            ]
           ]
          },
          "colorway": [
           "#636efa",
           "#EF553B",
           "#00cc96",
           "#ab63fa",
           "#FFA15A",
           "#19d3f3",
           "#FF6692",
           "#B6E880",
           "#FF97FF",
           "#FECB52"
          ],
          "font": {
           "color": "#2a3f5f"
          },
          "geo": {
           "bgcolor": "white",
           "lakecolor": "white",
           "landcolor": "#E5ECF6",
           "showlakes": true,
           "showland": true,
           "subunitcolor": "white"
          },
          "hoverlabel": {
           "align": "left"
          },
          "hovermode": "closest",
          "mapbox": {
           "style": "light"
          },
          "paper_bgcolor": "white",
          "plot_bgcolor": "#E5ECF6",
          "polar": {
           "angularaxis": {
            "gridcolor": "white",
            "linecolor": "white",
            "ticks": ""
           },
           "bgcolor": "#E5ECF6",
           "radialaxis": {
            "gridcolor": "white",
            "linecolor": "white",
            "ticks": ""
           }
          },
          "scene": {
           "xaxis": {
            "backgroundcolor": "#E5ECF6",
            "gridcolor": "white",
            "gridwidth": 2,
            "linecolor": "white",
            "showbackground": true,
            "ticks": "",
            "zerolinecolor": "white"
           },
           "yaxis": {
            "backgroundcolor": "#E5ECF6",
            "gridcolor": "white",
            "gridwidth": 2,
            "linecolor": "white",
            "showbackground": true,
            "ticks": "",
            "zerolinecolor": "white"
           },
           "zaxis": {
            "backgroundcolor": "#E5ECF6",
            "gridcolor": "white",
            "gridwidth": 2,
            "linecolor": "white",
            "showbackground": true,
            "ticks": "",
            "zerolinecolor": "white"
           }
          },
          "shapedefaults": {
           "line": {
            "color": "#2a3f5f"
           }
          },
          "ternary": {
           "aaxis": {
            "gridcolor": "white",
            "linecolor": "white",
            "ticks": ""
           },
           "baxis": {
            "gridcolor": "white",
            "linecolor": "white",
            "ticks": ""
           },
           "bgcolor": "#E5ECF6",
           "caxis": {
            "gridcolor": "white",
            "linecolor": "white",
            "ticks": ""
           }
          },
          "title": {
           "x": 0.05
          },
          "xaxis": {
           "automargin": true,
           "gridcolor": "white",
           "linecolor": "white",
           "ticks": "",
           "title": {
            "standoff": 15
           },
           "zerolinecolor": "white",
           "zerolinewidth": 2
          },
          "yaxis": {
           "automargin": true,
           "gridcolor": "white",
           "linecolor": "white",
           "ticks": "",
           "title": {
            "standoff": 15
           },
           "zerolinecolor": "white",
           "zerolinewidth": 2
          }
         }
        },
        "title": {
         "text": "Temporal Changes in 3 AG Regions Crop Distribution"
        },
        "xaxis": {
         "anchor": "y",
         "domain": [
          0,
          1
         ],
         "title": {
          "text": "Crop Type"
         }
        },
        "yaxis": {
         "anchor": "x",
         "domain": [
          0,
          1
         ],
         "title": {
          "text": "Crop Quantity"
         }
        }
       }
      }
     },
     "metadata": {},
     "output_type": "display_data"
    }
   ],
   "source": [
    "meta_df_crops_selected = meta_df_crops.loc[meta_df_crops['Region'].isin(['Tulare Lake', 'San Joaquin River', 'Sacramento River'])]\n",
    "regional_sum = meta_df_crops_selected.groupby(['Crop Type','Year'])['value'].sum()\n",
    "regional_sum = regional_sum.reset_index()\n",
    "regional_sum_pivot = regional_sum.pivot_table(index='Year', columns=['Crop Type'], values='value',dropna=False) \n",
    "\n",
    "df = regional_sum_pivot.T\n",
    "fig = px.bar(df, x=df.index, y=df.columns, title=\"Temporal Changes in 3 AG Regions Crop Distribution\", labels={'index': 'Crop Type', 'value': 'Crop Quantity'}, height=600,barmode='group')\n",
    "# Save the figure to an HTML file\n",
    "fig.show()"
   ]
  },
  {
   "cell_type": "markdown",
   "metadata": {},
   "source": [
    "# the following two are the same"
   ]
  },
  {
   "cell_type": "code",
   "execution_count": 70,
   "metadata": {},
   "outputs": [],
   "source": [
    "# Pivot the data: rows are 'Year', columns are 'Crop Type', values are 'value'\n",
    "meta_df_crops_selected = meta_df_crops.loc[meta_df_crops['Region'].isin(['Tulare Lake', 'San Joaquin River', 'Sacramento River'])]\n",
    "regional_sum = meta_df_crops.groupby(['Crop Type','Year'])['value'].sum()\n",
    "regional_sum = regional_sum.reset_index()\n",
    "regional_sum_pivot = regional_sum.pivot_table(index='Year', columns=['Crop Type'], values='value',dropna=False) \n",
    "base_year_data = regional_sum_pivot.loc['2018']\n",
    "percentage_change_from_2018 = regional_sum_pivot.sub(base_year_data, axis='columns').divide(base_year_data, axis='columns')*100    \n",
    "df = percentage_change_from_2018.T\n",
    "\n",
    "relative_change_from_2018 = regional_sum_pivot.sub(base_year_data, axis='columns')\n"
   ]
  },
  {
   "cell_type": "code",
   "execution_count": 71,
   "metadata": {},
   "outputs": [
    {
     "data": {
      "text/html": [
       "<div>\n",
       "<style scoped>\n",
       "    .dataframe tbody tr th:only-of-type {\n",
       "        vertical-align: middle;\n",
       "    }\n",
       "\n",
       "    .dataframe tbody tr th {\n",
       "        vertical-align: top;\n",
       "    }\n",
       "\n",
       "    .dataframe thead th {\n",
       "        text-align: right;\n",
       "    }\n",
       "</style>\n",
       "<table border=\"1\" class=\"dataframe\">\n",
       "  <thead>\n",
       "    <tr style=\"text-align: right;\">\n",
       "      <th>Year</th>\n",
       "      <th>2016</th>\n",
       "      <th>2018</th>\n",
       "      <th>2020</th>\n",
       "      <th>2021</th>\n",
       "      <th>2022</th>\n",
       "    </tr>\n",
       "    <tr>\n",
       "      <th>Crop Type</th>\n",
       "      <th></th>\n",
       "      <th></th>\n",
       "      <th></th>\n",
       "      <th></th>\n",
       "      <th></th>\n",
       "    </tr>\n",
       "  </thead>\n",
       "  <tbody>\n",
       "    <tr>\n",
       "      <th>C</th>\n",
       "      <td>-1.573564</td>\n",
       "      <td>0.0</td>\n",
       "      <td>4.534054</td>\n",
       "      <td>3.607844</td>\n",
       "      <td>6.255809</td>\n",
       "    </tr>\n",
       "    <tr>\n",
       "      <th>D</th>\n",
       "      <td>-10.452099</td>\n",
       "      <td>0.0</td>\n",
       "      <td>9.206131</td>\n",
       "      <td>10.453156</td>\n",
       "      <td>13.767634</td>\n",
       "    </tr>\n",
       "    <tr>\n",
       "      <th>F</th>\n",
       "      <td>-5.945450</td>\n",
       "      <td>0.0</td>\n",
       "      <td>-9.605663</td>\n",
       "      <td>-20.248215</td>\n",
       "      <td>-19.794637</td>\n",
       "    </tr>\n",
       "    <tr>\n",
       "      <th>G</th>\n",
       "      <td>1.694020</td>\n",
       "      <td>0.0</td>\n",
       "      <td>-4.144563</td>\n",
       "      <td>-17.539615</td>\n",
       "      <td>-8.612693</td>\n",
       "    </tr>\n",
       "    <tr>\n",
       "      <th>P</th>\n",
       "      <td>9.018837</td>\n",
       "      <td>0.0</td>\n",
       "      <td>8.063600</td>\n",
       "      <td>6.955452</td>\n",
       "      <td>4.526101</td>\n",
       "    </tr>\n",
       "  </tbody>\n",
       "</table>\n",
       "</div>"
      ],
      "text/plain": [
       "Year            2016  2018      2020       2021       2022\n",
       "Crop Type                                                 \n",
       "C          -1.573564   0.0  4.534054   3.607844   6.255809\n",
       "D         -10.452099   0.0  9.206131  10.453156  13.767634\n",
       "F          -5.945450   0.0 -9.605663 -20.248215 -19.794637\n",
       "G           1.694020   0.0 -4.144563 -17.539615  -8.612693\n",
       "P           9.018837   0.0  8.063600   6.955452   4.526101"
      ]
     },
     "execution_count": 71,
     "metadata": {},
     "output_type": "execute_result"
    }
   ],
   "source": [
    "df.head()"
   ]
  },
  {
   "cell_type": "code",
   "execution_count": 72,
   "metadata": {},
   "outputs": [
    {
     "data": {
      "application/vnd.plotly.v1+json": {
       "config": {
        "plotlyServerURL": "https://plot.ly"
       },
       "data": [
        {
         "alignmentgroup": "True",
         "hovertemplate": "Year=2016<br>Crop Type=%{x}<br>Percent Change=%{y}<extra></extra>",
         "legendgroup": "2016",
         "marker": {
          "color": "#636efa",
          "pattern": {
           "shape": ""
          }
         },
         "name": "2016",
         "offsetgroup": "2016",
         "orientation": "v",
         "showlegend": true,
         "textposition": "auto",
         "type": "bar",
         "x": [
          "C",
          "D",
          "F",
          "G",
          "P",
          "R",
          "T",
          "V",
          "YP"
         ],
         "xaxis": "x",
         "y": [
          -1.5735636973343181,
          -10.45209874821358,
          -5.945449773299451,
          1.6940202242243307,
          9.018836608810725,
          8.364121414647606,
          3.2353469931526253,
          1.99305533789294,
          37.89991744725753
         ],
         "yaxis": "y"
        },
        {
         "alignmentgroup": "True",
         "hovertemplate": "Year=2018<br>Crop Type=%{x}<br>Percent Change=%{y}<extra></extra>",
         "legendgroup": "2018",
         "marker": {
          "color": "#EF553B",
          "pattern": {
           "shape": ""
          }
         },
         "name": "2018",
         "offsetgroup": "2018",
         "orientation": "v",
         "showlegend": true,
         "textposition": "auto",
         "type": "bar",
         "x": [
          "C",
          "D",
          "F",
          "G",
          "P",
          "R",
          "T",
          "V",
          "YP"
         ],
         "xaxis": "x",
         "y": [
          0,
          0,
          0,
          0,
          0,
          0,
          0,
          0,
          0
         ],
         "yaxis": "y"
        },
        {
         "alignmentgroup": "True",
         "hovertemplate": "Year=2020<br>Crop Type=%{x}<br>Percent Change=%{y}<extra></extra>",
         "legendgroup": "2020",
         "marker": {
          "color": "#00cc96",
          "pattern": {
           "shape": ""
          }
         },
         "name": "2020",
         "offsetgroup": "2020",
         "orientation": "v",
         "showlegend": true,
         "textposition": "auto",
         "type": "bar",
         "x": [
          "C",
          "D",
          "F",
          "G",
          "P",
          "R",
          "T",
          "V",
          "YP"
         ],
         "xaxis": "x",
         "y": [
          4.534054087834859,
          9.20613099438486,
          -9.605663422209226,
          -4.144563041816073,
          8.063599895727874,
          1.6559283907479727,
          -8.48903562630504,
          -6.901696721624151,
          -35.91456275929585
         ],
         "yaxis": "y"
        },
        {
         "alignmentgroup": "True",
         "hovertemplate": "Year=2021<br>Crop Type=%{x}<br>Percent Change=%{y}<extra></extra>",
         "legendgroup": "2021",
         "marker": {
          "color": "#ab63fa",
          "pattern": {
           "shape": ""
          }
         },
         "name": "2021",
         "offsetgroup": "2021",
         "orientation": "v",
         "showlegend": true,
         "textposition": "auto",
         "type": "bar",
         "x": [
          "C",
          "D",
          "F",
          "G",
          "P",
          "R",
          "T",
          "V",
          "YP"
         ],
         "xaxis": "x",
         "y": [
          3.607843718681388,
          10.453156338458168,
          -20.248214697249306,
          -17.539614873856756,
          6.955451991676124,
          -19.254265770443247,
          -9.142203336834012,
          -9.455635410113318,
          -24.539234004090567
         ],
         "yaxis": "y"
        },
        {
         "alignmentgroup": "True",
         "hovertemplate": "Year=2022<br>Crop Type=%{x}<br>Percent Change=%{y}<extra></extra>",
         "legendgroup": "2022",
         "marker": {
          "color": "#FFA15A",
          "pattern": {
           "shape": ""
          }
         },
         "name": "2022",
         "offsetgroup": "2022",
         "orientation": "v",
         "showlegend": true,
         "textposition": "auto",
         "type": "bar",
         "x": [
          "C",
          "D",
          "F",
          "G",
          "P",
          "R",
          "T",
          "V",
          "YP"
         ],
         "xaxis": "x",
         "y": [
          6.255809362767435,
          13.767634379304324,
          -19.7946374958142,
          -8.61269339674329,
          4.526100765441988,
          -49.400766654600524,
          -12.714010685258367,
          -11.253702718163918,
          -12.142910354003755
         ],
         "yaxis": "y"
        }
       ],
       "layout": {
        "barmode": "group",
        "height": 600,
        "legend": {
         "title": {
          "text": "Year"
         },
         "tracegroupgap": 0
        },
        "template": {
         "data": {
          "bar": [
           {
            "error_x": {
             "color": "#2a3f5f"
            },
            "error_y": {
             "color": "#2a3f5f"
            },
            "marker": {
             "line": {
              "color": "#E5ECF6",
              "width": 0.5
             },
             "pattern": {
              "fillmode": "overlay",
              "size": 10,
              "solidity": 0.2
             }
            },
            "type": "bar"
           }
          ],
          "barpolar": [
           {
            "marker": {
             "line": {
              "color": "#E5ECF6",
              "width": 0.5
             },
             "pattern": {
              "fillmode": "overlay",
              "size": 10,
              "solidity": 0.2
             }
            },
            "type": "barpolar"
           }
          ],
          "carpet": [
           {
            "aaxis": {
             "endlinecolor": "#2a3f5f",
             "gridcolor": "white",
             "linecolor": "white",
             "minorgridcolor": "white",
             "startlinecolor": "#2a3f5f"
            },
            "baxis": {
             "endlinecolor": "#2a3f5f",
             "gridcolor": "white",
             "linecolor": "white",
             "minorgridcolor": "white",
             "startlinecolor": "#2a3f5f"
            },
            "type": "carpet"
           }
          ],
          "choropleth": [
           {
            "colorbar": {
             "outlinewidth": 0,
             "ticks": ""
            },
            "type": "choropleth"
           }
          ],
          "contour": [
           {
            "colorbar": {
             "outlinewidth": 0,
             "ticks": ""
            },
            "colorscale": [
             [
              0,
              "#0d0887"
             ],
             [
              0.1111111111111111,
              "#46039f"
             ],
             [
              0.2222222222222222,
              "#7201a8"
             ],
             [
              0.3333333333333333,
              "#9c179e"
             ],
             [
              0.4444444444444444,
              "#bd3786"
             ],
             [
              0.5555555555555556,
              "#d8576b"
             ],
             [
              0.6666666666666666,
              "#ed7953"
             ],
             [
              0.7777777777777778,
              "#fb9f3a"
             ],
             [
              0.8888888888888888,
              "#fdca26"
             ],
             [
              1,
              "#f0f921"
             ]
            ],
            "type": "contour"
           }
          ],
          "contourcarpet": [
           {
            "colorbar": {
             "outlinewidth": 0,
             "ticks": ""
            },
            "type": "contourcarpet"
           }
          ],
          "heatmap": [
           {
            "colorbar": {
             "outlinewidth": 0,
             "ticks": ""
            },
            "colorscale": [
             [
              0,
              "#0d0887"
             ],
             [
              0.1111111111111111,
              "#46039f"
             ],
             [
              0.2222222222222222,
              "#7201a8"
             ],
             [
              0.3333333333333333,
              "#9c179e"
             ],
             [
              0.4444444444444444,
              "#bd3786"
             ],
             [
              0.5555555555555556,
              "#d8576b"
             ],
             [
              0.6666666666666666,
              "#ed7953"
             ],
             [
              0.7777777777777778,
              "#fb9f3a"
             ],
             [
              0.8888888888888888,
              "#fdca26"
             ],
             [
              1,
              "#f0f921"
             ]
            ],
            "type": "heatmap"
           }
          ],
          "heatmapgl": [
           {
            "colorbar": {
             "outlinewidth": 0,
             "ticks": ""
            },
            "colorscale": [
             [
              0,
              "#0d0887"
             ],
             [
              0.1111111111111111,
              "#46039f"
             ],
             [
              0.2222222222222222,
              "#7201a8"
             ],
             [
              0.3333333333333333,
              "#9c179e"
             ],
             [
              0.4444444444444444,
              "#bd3786"
             ],
             [
              0.5555555555555556,
              "#d8576b"
             ],
             [
              0.6666666666666666,
              "#ed7953"
             ],
             [
              0.7777777777777778,
              "#fb9f3a"
             ],
             [
              0.8888888888888888,
              "#fdca26"
             ],
             [
              1,
              "#f0f921"
             ]
            ],
            "type": "heatmapgl"
           }
          ],
          "histogram": [
           {
            "marker": {
             "pattern": {
              "fillmode": "overlay",
              "size": 10,
              "solidity": 0.2
             }
            },
            "type": "histogram"
           }
          ],
          "histogram2d": [
           {
            "colorbar": {
             "outlinewidth": 0,
             "ticks": ""
            },
            "colorscale": [
             [
              0,
              "#0d0887"
             ],
             [
              0.1111111111111111,
              "#46039f"
             ],
             [
              0.2222222222222222,
              "#7201a8"
             ],
             [
              0.3333333333333333,
              "#9c179e"
             ],
             [
              0.4444444444444444,
              "#bd3786"
             ],
             [
              0.5555555555555556,
              "#d8576b"
             ],
             [
              0.6666666666666666,
              "#ed7953"
             ],
             [
              0.7777777777777778,
              "#fb9f3a"
             ],
             [
              0.8888888888888888,
              "#fdca26"
             ],
             [
              1,
              "#f0f921"
             ]
            ],
            "type": "histogram2d"
           }
          ],
          "histogram2dcontour": [
           {
            "colorbar": {
             "outlinewidth": 0,
             "ticks": ""
            },
            "colorscale": [
             [
              0,
              "#0d0887"
             ],
             [
              0.1111111111111111,
              "#46039f"
             ],
             [
              0.2222222222222222,
              "#7201a8"
             ],
             [
              0.3333333333333333,
              "#9c179e"
             ],
             [
              0.4444444444444444,
              "#bd3786"
             ],
             [
              0.5555555555555556,
              "#d8576b"
             ],
             [
              0.6666666666666666,
              "#ed7953"
             ],
             [
              0.7777777777777778,
              "#fb9f3a"
             ],
             [
              0.8888888888888888,
              "#fdca26"
             ],
             [
              1,
              "#f0f921"
             ]
            ],
            "type": "histogram2dcontour"
           }
          ],
          "mesh3d": [
           {
            "colorbar": {
             "outlinewidth": 0,
             "ticks": ""
            },
            "type": "mesh3d"
           }
          ],
          "parcoords": [
           {
            "line": {
             "colorbar": {
              "outlinewidth": 0,
              "ticks": ""
             }
            },
            "type": "parcoords"
           }
          ],
          "pie": [
           {
            "automargin": true,
            "type": "pie"
           }
          ],
          "scatter": [
           {
            "fillpattern": {
             "fillmode": "overlay",
             "size": 10,
             "solidity": 0.2
            },
            "type": "scatter"
           }
          ],
          "scatter3d": [
           {
            "line": {
             "colorbar": {
              "outlinewidth": 0,
              "ticks": ""
             }
            },
            "marker": {
             "colorbar": {
              "outlinewidth": 0,
              "ticks": ""
             }
            },
            "type": "scatter3d"
           }
          ],
          "scattercarpet": [
           {
            "marker": {
             "colorbar": {
              "outlinewidth": 0,
              "ticks": ""
             }
            },
            "type": "scattercarpet"
           }
          ],
          "scattergeo": [
           {
            "marker": {
             "colorbar": {
              "outlinewidth": 0,
              "ticks": ""
             }
            },
            "type": "scattergeo"
           }
          ],
          "scattergl": [
           {
            "marker": {
             "colorbar": {
              "outlinewidth": 0,
              "ticks": ""
             }
            },
            "type": "scattergl"
           }
          ],
          "scattermapbox": [
           {
            "marker": {
             "colorbar": {
              "outlinewidth": 0,
              "ticks": ""
             }
            },
            "type": "scattermapbox"
           }
          ],
          "scatterpolar": [
           {
            "marker": {
             "colorbar": {
              "outlinewidth": 0,
              "ticks": ""
             }
            },
            "type": "scatterpolar"
           }
          ],
          "scatterpolargl": [
           {
            "marker": {
             "colorbar": {
              "outlinewidth": 0,
              "ticks": ""
             }
            },
            "type": "scatterpolargl"
           }
          ],
          "scatterternary": [
           {
            "marker": {
             "colorbar": {
              "outlinewidth": 0,
              "ticks": ""
             }
            },
            "type": "scatterternary"
           }
          ],
          "surface": [
           {
            "colorbar": {
             "outlinewidth": 0,
             "ticks": ""
            },
            "colorscale": [
             [
              0,
              "#0d0887"
             ],
             [
              0.1111111111111111,
              "#46039f"
             ],
             [
              0.2222222222222222,
              "#7201a8"
             ],
             [
              0.3333333333333333,
              "#9c179e"
             ],
             [
              0.4444444444444444,
              "#bd3786"
             ],
             [
              0.5555555555555556,
              "#d8576b"
             ],
             [
              0.6666666666666666,
              "#ed7953"
             ],
             [
              0.7777777777777778,
              "#fb9f3a"
             ],
             [
              0.8888888888888888,
              "#fdca26"
             ],
             [
              1,
              "#f0f921"
             ]
            ],
            "type": "surface"
           }
          ],
          "table": [
           {
            "cells": {
             "fill": {
              "color": "#EBF0F8"
             },
             "line": {
              "color": "white"
             }
            },
            "header": {
             "fill": {
              "color": "#C8D4E3"
             },
             "line": {
              "color": "white"
             }
            },
            "type": "table"
           }
          ]
         },
         "layout": {
          "annotationdefaults": {
           "arrowcolor": "#2a3f5f",
           "arrowhead": 0,
           "arrowwidth": 1
          },
          "autotypenumbers": "strict",
          "coloraxis": {
           "colorbar": {
            "outlinewidth": 0,
            "ticks": ""
           }
          },
          "colorscale": {
           "diverging": [
            [
             0,
             "#8e0152"
            ],
            [
             0.1,
             "#c51b7d"
            ],
            [
             0.2,
             "#de77ae"
            ],
            [
             0.3,
             "#f1b6da"
            ],
            [
             0.4,
             "#fde0ef"
            ],
            [
             0.5,
             "#f7f7f7"
            ],
            [
             0.6,
             "#e6f5d0"
            ],
            [
             0.7,
             "#b8e186"
            ],
            [
             0.8,
             "#7fbc41"
            ],
            [
             0.9,
             "#4d9221"
            ],
            [
             1,
             "#276419"
            ]
           ],
           "sequential": [
            [
             0,
             "#0d0887"
            ],
            [
             0.1111111111111111,
             "#46039f"
            ],
            [
             0.2222222222222222,
             "#7201a8"
            ],
            [
             0.3333333333333333,
             "#9c179e"
            ],
            [
             0.4444444444444444,
             "#bd3786"
            ],
            [
             0.5555555555555556,
             "#d8576b"
            ],
            [
             0.6666666666666666,
             "#ed7953"
            ],
            [
             0.7777777777777778,
             "#fb9f3a"
            ],
            [
             0.8888888888888888,
             "#fdca26"
            ],
            [
             1,
             "#f0f921"
            ]
           ],
           "sequentialminus": [
            [
             0,
             "#0d0887"
            ],
            [
             0.1111111111111111,
             "#46039f"
            ],
            [
             0.2222222222222222,
             "#7201a8"
            ],
            [
             0.3333333333333333,
             "#9c179e"
            ],
            [
             0.4444444444444444,
             "#bd3786"
            ],
            [
             0.5555555555555556,
             "#d8576b"
            ],
            [
             0.6666666666666666,
             "#ed7953"
            ],
            [
             0.7777777777777778,
             "#fb9f3a"
            ],
            [
             0.8888888888888888,
             "#fdca26"
            ],
            [
             1,
             "#f0f921"
            ]
           ]
          },
          "colorway": [
           "#636efa",
           "#EF553B",
           "#00cc96",
           "#ab63fa",
           "#FFA15A",
           "#19d3f3",
           "#FF6692",
           "#B6E880",
           "#FF97FF",
           "#FECB52"
          ],
          "font": {
           "color": "#2a3f5f"
          },
          "geo": {
           "bgcolor": "white",
           "lakecolor": "white",
           "landcolor": "#E5ECF6",
           "showlakes": true,
           "showland": true,
           "subunitcolor": "white"
          },
          "hoverlabel": {
           "align": "left"
          },
          "hovermode": "closest",
          "mapbox": {
           "style": "light"
          },
          "paper_bgcolor": "white",
          "plot_bgcolor": "#E5ECF6",
          "polar": {
           "angularaxis": {
            "gridcolor": "white",
            "linecolor": "white",
            "ticks": ""
           },
           "bgcolor": "#E5ECF6",
           "radialaxis": {
            "gridcolor": "white",
            "linecolor": "white",
            "ticks": ""
           }
          },
          "scene": {
           "xaxis": {
            "backgroundcolor": "#E5ECF6",
            "gridcolor": "white",
            "gridwidth": 2,
            "linecolor": "white",
            "showbackground": true,
            "ticks": "",
            "zerolinecolor": "white"
           },
           "yaxis": {
            "backgroundcolor": "#E5ECF6",
            "gridcolor": "white",
            "gridwidth": 2,
            "linecolor": "white",
            "showbackground": true,
            "ticks": "",
            "zerolinecolor": "white"
           },
           "zaxis": {
            "backgroundcolor": "#E5ECF6",
            "gridcolor": "white",
            "gridwidth": 2,
            "linecolor": "white",
            "showbackground": true,
            "ticks": "",
            "zerolinecolor": "white"
           }
          },
          "shapedefaults": {
           "line": {
            "color": "#2a3f5f"
           }
          },
          "ternary": {
           "aaxis": {
            "gridcolor": "white",
            "linecolor": "white",
            "ticks": ""
           },
           "baxis": {
            "gridcolor": "white",
            "linecolor": "white",
            "ticks": ""
           },
           "bgcolor": "#E5ECF6",
           "caxis": {
            "gridcolor": "white",
            "linecolor": "white",
            "ticks": ""
           }
          },
          "title": {
           "x": 0.05
          },
          "xaxis": {
           "automargin": true,
           "gridcolor": "white",
           "linecolor": "white",
           "ticks": "",
           "title": {
            "standoff": 15
           },
           "zerolinecolor": "white",
           "zerolinewidth": 2
          },
          "yaxis": {
           "automargin": true,
           "gridcolor": "white",
           "linecolor": "white",
           "ticks": "",
           "title": {
            "standoff": 15
           },
           "zerolinecolor": "white",
           "zerolinewidth": 2
          }
         }
        },
        "title": {
         "text": "Percentage Change in Crop Yields Across Three Agricultural Regions"
        },
        "xaxis": {
         "anchor": "y",
         "domain": [
          0,
          1
         ],
         "title": {
          "text": "Crop Type"
         }
        },
        "yaxis": {
         "anchor": "x",
         "domain": [
          0,
          1
         ],
         "title": {
          "text": "Percent Change"
         }
        }
       }
      }
     },
     "metadata": {},
     "output_type": "display_data"
    }
   ],
   "source": [
    "fig = px.bar(df, x=df.index, y=df.columns, title=\"Percentage Change in Crop Yields Across Three Agricultural Regions\", labels={'index': 'Crop Type', 'value': 'Percent Change'}, height=600,barmode='group')\n",
    "fig.show()  "
   ]
  },
  {
   "cell_type": "code",
   "execution_count": 73,
   "metadata": {},
   "outputs": [
    {
     "data": {
      "image/png": "[encoded data removed]",
      "text/plain": [
       "<Figure size 1200x500 with 1 Axes>"
      ]
     },
     "metadata": {},
     "output_type": "display_data"
    }
   ],
   "source": [
    "df = percentage_change_from_2018.T\n",
    "# Define a color map\n",
    "colors = plt.cm.Paired(np.linspace(0, 1, len(df)))\n",
    "\n",
    "# Plotting\n",
    "fig, ax = plt.subplots(figsize=(12, 5))\n",
    "width = 0.18  # Reducing width of the bars\n",
    "ind = np.arange(len(df))  # the x locations for the groups\n",
    "\n",
    "# Number of variables and the total width for all bars together\n",
    "num_vars = len(df.columns)\n",
    "group_width = num_vars * width  # Total width of grouped bars\n",
    "spacing = 0.01  # Adding small spaces between bars to distinguish them\n",
    "\n",
    "# Loop over the columns to create each set of bars\n",
    "for i, col in enumerate(df.columns):\n",
    "    # Offset calculation: center the bars around the tick\n",
    "    offset = (i - (num_vars - 1) / 2) * (width + spacing)\n",
    "    ax.bar(ind + offset, df[col], width, label=col, color=colors)\n",
    "\n",
    "# Add some text for labels, title and axes ticks\n",
    "ax.set_xlabel('Year')\n",
    "ax.set_ylabel('Values')\n",
    "ax.set_title('Percent Change of Crops based on 2018')\n",
    "ax.set_xticks(ind)\n",
    "ax.set_xticklabels(df.index)\n",
    "# ax.legend(title=\"Variables\", bbox_to_anchor=(0.9, 1), loc='upper left')\n",
    "\n",
    "plt.show()"
   ]
  },
  {
   "cell_type": "code",
   "execution_count": 74,
   "metadata": {},
   "outputs": [
    {
     "data": {
      "image/png": "[encoded data removed]",
      "text/plain": [
       "<Figure size 1200x500 with 1 Axes>"
      ]
     },
     "metadata": {},
     "output_type": "display_data"
    }
   ],
   "source": [
    "df = relative_change_from_2018.T\n",
    "# Define a color map\n",
    "colors = plt.cm.Paired(np.linspace(0, 1, len(df)))\n",
    "\n",
    "# Plotting\n",
    "fig, ax = plt.subplots(figsize=(12, 5))\n",
    "width = 0.18  # Reducing width of the bars\n",
    "ind = np.arange(len(df))  # the x locations for the groups\n",
    "\n",
    "# Number of variables and the total width for all bars together\n",
    "num_vars = len(df.columns)\n",
    "group_width = num_vars * width  # Total width of grouped bars\n",
    "spacing = 0.01  # Adding small spaces between bars to distinguish them\n",
    "\n",
    "# Loop over the columns to create each set of bars\n",
    "for i, col in enumerate(df.columns):\n",
    "    # Offset calculation: center the bars around the tick\n",
    "    offset = (i - (num_vars - 1) / 2) * (width + spacing)\n",
    "    ax.bar(ind + offset, df[col], width, label=col, color=colors)\n",
    "\n",
    "# Add some text for labels, title and axes ticks\n",
    "ax.set_xlabel('Year')\n",
    "ax.set_ylabel('Values')\n",
    "ax.set_title('Relative Change of Crops based on 2018')\n",
    "ax.set_xticks(ind)\n",
    "ax.set_xticklabels(df.index)\n",
    "# ax.legend(title=\"Variables\", bbox_to_anchor=(0.9, 1), loc='upper left')\n",
    "\n",
    "plt.show()"
   ]
  },
  {
   "cell_type": "code",
   "execution_count": 75,
   "metadata": {},
   "outputs": [
    {
     "data": {
      "image/png": "[encoded data removed]",
      "text/plain": [
       "<Figure size 1200x800 with 2 Axes>"
      ]
     },
     "metadata": {},
     "output_type": "display_data"
    }
   ],
   "source": [
    "import pandas as pd\n",
    "import seaborn as sns\n",
    "import matplotlib.pyplot as plt\n",
    "\n",
    "df = percentage_change_from_2018\n",
    "df = df.drop('2018')\n",
    "\n",
    "# Calculate the correlation matrix\n",
    "correlation_matrix = df.corr()\n",
    "\n",
    "# Mask for the upper triangle\n",
    "mask = np.triu(np.ones_like(correlation_matrix, dtype=bool))\n",
    "\n",
    "# Adjusted heatmap with the mask\n",
    "plt.figure(figsize=(12, 8))\n",
    "sns.heatmap(correlation_matrix, mask=mask, annot=True, fmt=\".2f\", cmap='coolwarm', linewidths=.5)\n",
    "plt.title('Correlation Matrix Heatmap with Upper Triangle Masked')\n",
    "plt.show()"
   ]
  },
  {
   "cell_type": "markdown",
   "metadata": {},
   "source": [
    "# absolute change"
   ]
  },
  {
   "cell_type": "code",
   "execution_count": 95,
   "metadata": {},
   "outputs": [
    {
     "data": {
      "text/html": [
       "<div>\n",
       "<style scoped>\n",
       "    .dataframe tbody tr th:only-of-type {\n",
       "        vertical-align: middle;\n",
       "    }\n",
       "\n",
       "    .dataframe tbody tr th {\n",
       "        vertical-align: top;\n",
       "    }\n",
       "\n",
       "    .dataframe thead th {\n",
       "        text-align: right;\n",
       "    }\n",
       "</style>\n",
       "<table border=\"1\" class=\"dataframe\">\n",
       "  <thead>\n",
       "    <tr style=\"text-align: right;\">\n",
       "      <th>Crop Type</th>\n",
       "      <th>C</th>\n",
       "      <th>D</th>\n",
       "      <th>F</th>\n",
       "      <th>G</th>\n",
       "      <th>P</th>\n",
       "      <th>R</th>\n",
       "      <th>T</th>\n",
       "      <th>V</th>\n",
       "      <th>YP</th>\n",
       "    </tr>\n",
       "  </thead>\n",
       "  <tbody>\n",
       "    <tr>\n",
       "      <th>14 to 16</th>\n",
       "      <td>NaN</td>\n",
       "      <td>NaN</td>\n",
       "      <td>NaN</td>\n",
       "      <td>NaN</td>\n",
       "      <td>NaN</td>\n",
       "      <td>NaN</td>\n",
       "      <td>NaN</td>\n",
       "      <td>NaN</td>\n",
       "      <td>NaN</td>\n",
       "    </tr>\n",
       "    <tr>\n",
       "      <th>16 to 18</th>\n",
       "      <td>6710.042813</td>\n",
       "      <td>257536.420789</td>\n",
       "      <td>62566.293238</td>\n",
       "      <td>-10939.472241</td>\n",
       "      <td>-125369.009609</td>\n",
       "      <td>-43091.140721</td>\n",
       "      <td>-31594.617263</td>\n",
       "      <td>-17047.093216</td>\n",
       "      <td>-62757.873607</td>\n",
       "    </tr>\n",
       "    <tr>\n",
       "      <th>18 to 20</th>\n",
       "      <td>19334.264699</td>\n",
       "      <td>226836.167809</td>\n",
       "      <td>-101084.152980</td>\n",
       "      <td>-26764.339469</td>\n",
       "      <td>112090.458743</td>\n",
       "      <td>8531.182149</td>\n",
       "      <td>-82899.247627</td>\n",
       "      <td>-59031.912022</td>\n",
       "      <td>-59470.356193</td>\n",
       "    </tr>\n",
       "    <tr>\n",
       "      <th>20 to 21</th>\n",
       "      <td>-3949.577155</td>\n",
       "      <td>30726.311670</td>\n",
       "      <td>-111995.729384</td>\n",
       "      <td>-86501.209132</td>\n",
       "      <td>-15404.138167</td>\n",
       "      <td>-107727.288310</td>\n",
       "      <td>-6378.476209</td>\n",
       "      <td>-21844.466665</td>\n",
       "      <td>18836.226893</td>\n",
       "    </tr>\n",
       "    <tr>\n",
       "      <th>21 to 22</th>\n",
       "      <td>11291.543436</td>\n",
       "      <td>81667.694880</td>\n",
       "      <td>4773.170285</td>\n",
       "      <td>57647.369437</td>\n",
       "      <td>-33769.916280</td>\n",
       "      <td>-155311.842982</td>\n",
       "      <td>-34880.303828</td>\n",
       "      <td>-15379.312569</td>\n",
       "      <td>20526.876184</td>\n",
       "    </tr>\n",
       "  </tbody>\n",
       "</table>\n",
       "</div>"
      ],
      "text/plain": [
       "Crop Type             C              D              F             G  \\\n",
       "14 to 16            NaN            NaN            NaN           NaN   \n",
       "16 to 18    6710.042813  257536.420789   62566.293238 -10939.472241   \n",
       "18 to 20   19334.264699  226836.167809 -101084.152980 -26764.339469   \n",
       "20 to 21   -3949.577155   30726.311670 -111995.729384 -86501.209132   \n",
       "21 to 22   11291.543436   81667.694880    4773.170285  57647.369437   \n",
       "\n",
       "Crop Type              P              R             T             V  \\\n",
       "14 to 16             NaN            NaN           NaN           NaN   \n",
       "16 to 18  -125369.009609  -43091.140721 -31594.617263 -17047.093216   \n",
       "18 to 20   112090.458743    8531.182149 -82899.247627 -59031.912022   \n",
       "20 to 21   -15404.138167 -107727.288310  -6378.476209 -21844.466665   \n",
       "21 to 22   -33769.916280 -155311.842982 -34880.303828 -15379.312569   \n",
       "\n",
       "Crop Type            YP  \n",
       "14 to 16            NaN  \n",
       "16 to 18  -62757.873607  \n",
       "18 to 20  -59470.356193  \n",
       "20 to 21   18836.226893  \n",
       "21 to 22   20526.876184  "
      ]
     },
     "execution_count": 95,
     "metadata": {},
     "output_type": "execute_result"
    }
   ],
   "source": [
    "base_year_data = regional_sum_pivot.loc['2018']\n",
    "abs_change_from_2018 = regional_sum_pivot.sub(base_year_data, axis='columns')   \n",
    "\n",
    "# growth_df = regional_sum_pivot.pct_change().dropna() * 100\n",
    "growth_df = regional_sum_pivot.diff(axis=0)\n",
    "growth_df.index = ['14 to 16', '16 to 18','18 to 20','20 to 21','21 to 22']\n",
    "growth_df"
   ]
  },
  {
   "cell_type": "code",
   "execution_count": 96,
   "metadata": {},
   "outputs": [
    {
     "data": {
      "image/png": "[encoded data removed]",
      "text/plain": [
       "<Figure size 1200x500 with 1 Axes>"
      ]
     },
     "metadata": {},
     "output_type": "display_data"
    }
   ],
   "source": [
    "df = growth_df.T\n",
    "\n",
    "# Define a color map\n",
    "colors = plt.cm.Paired(np.linspace(0, 1, len(df)))\n",
    "\n",
    "# Plotting\n",
    "fig, ax = plt.subplots(figsize=(12, 5))\n",
    "width = 0.18  # Reducing width of the bars\n",
    "ind = np.arange(len(df))  # the x locations for the groups\n",
    "\n",
    "# Number of variables and the total width for all bars together\n",
    "num_vars = len(df.columns)\n",
    "group_width = num_vars * width  # Total width of grouped bars\n",
    "spacing = 0.01  # Adding small spaces between bars to distinguish them\n",
    "\n",
    "# Loop over the columns to create each set of bars\n",
    "for i, col in enumerate(df.columns):\n",
    "    # Offset calculation: center the bars around the tick\n",
    "    offset = (i - (num_vars - 1) / 2) * (width + spacing)\n",
    "    ax.bar(ind + offset, df[col], width, label=col, color=colors)\n",
    "\n",
    "# Add some text for labels, title and axes ticks\n",
    "ax.set_xlabel('Year')\n",
    "ax.set_ylabel('Values')\n",
    "ax.set_title('Year to Year Absolute Change year over year')\n",
    "ax.set_xticks(ind)\n",
    "ax.set_xticklabels(df.index)\n",
    "# ax.legend(title=\"Variables\", bbox_to_anchor=(0.9, 1), loc='upper left')\n",
    "\n",
    "plt.show()"
   ]
  },
  {
   "cell_type": "code",
   "execution_count": 78,
   "metadata": {},
   "outputs": [
    {
     "data": {
      "application/vnd.plotly.v1+json": {
       "config": {
        "plotlyServerURL": "https://plot.ly"
       },
       "data": [
        {
         "alignmentgroup": "True",
         "hovertemplate": "variable=14 to 16<br>Crop Type=%{x}<br>Relative Change=%{y}<extra></extra>",
         "legendgroup": "14 to 16",
         "marker": {
          "color": "#636efa",
          "pattern": {
           "shape": ""
          }
         },
         "name": "14 to 16",
         "offsetgroup": "14 to 16",
         "orientation": "v",
         "showlegend": true,
         "textposition": "auto",
         "type": "bar",
         "x": [
          "C",
          "D",
          "F",
          "G",
          "P",
          "R",
          "T",
          "V",
          "YP"
         ],
         "xaxis": "x",
         "y": [
          null,
          null,
          null,
          null,
          null,
          null,
          null,
          null,
          null
         ],
         "yaxis": "y"
        },
        {
         "alignmentgroup": "True",
         "hovertemplate": "variable=16 to 18<br>Crop Type=%{x}<br>Relative Change=%{y}<extra></extra>",
         "legendgroup": "16 to 18",
         "marker": {
          "color": "#EF553B",
          "pattern": {
           "shape": ""
          }
         },
         "name": "16 to 18",
         "offsetgroup": "16 to 18",
         "orientation": "v",
         "showlegend": true,
         "textposition": "auto",
         "type": "bar",
         "x": [
          "C",
          "D",
          "F",
          "G",
          "P",
          "R",
          "T",
          "V",
          "YP"
         ],
         "xaxis": "x",
         "y": [
          6710.042812730011,
          257536.42078868998,
          62566.293238160084,
          -10939.472241420066,
          -125369.0096089798,
          -43091.14072051004,
          -31594.617263049935,
          -17047.09321595996,
          -62757.87360672999
         ],
         "yaxis": "y"
        },
        {
         "alignmentgroup": "True",
         "hovertemplate": "variable=18 to 20<br>Crop Type=%{x}<br>Relative Change=%{y}<extra></extra>",
         "legendgroup": "18 to 20",
         "marker": {
          "color": "#00cc96",
          "pattern": {
           "shape": ""
          }
         },
         "name": "18 to 20",
         "offsetgroup": "18 to 20",
         "orientation": "v",
         "showlegend": true,
         "textposition": "auto",
         "type": "bar",
         "x": [
          "C",
          "D",
          "F",
          "G",
          "P",
          "R",
          "T",
          "V",
          "YP"
         ],
         "xaxis": "x",
         "y": [
          19334.26469874999,
          226836.16780896997,
          -101084.15298032004,
          -26764.339469159953,
          112090.4587430798,
          8531.182149489992,
          -82899.24762727006,
          -59031.91202216991,
          -59470.3561934
         ],
         "yaxis": "y"
        },
        {
         "alignmentgroup": "True",
         "hovertemplate": "variable=20 to 21<br>Crop Type=%{x}<br>Relative Change=%{y}<extra></extra>",
         "legendgroup": "20 to 21",
         "marker": {
          "color": "#ab63fa",
          "pattern": {
           "shape": ""
          }
         },
         "name": "20 to 21",
         "offsetgroup": "20 to 21",
         "orientation": "v",
         "showlegend": true,
         "textposition": "auto",
         "type": "bar",
         "x": [
          "C",
          "D",
          "F",
          "G",
          "P",
          "R",
          "T",
          "V",
          "YP"
         ],
         "xaxis": "x",
         "y": [
          -3949.577154800005,
          30726.311670210212,
          -111995.72938395,
          -86501.20913172001,
          -15404.138167389901,
          -107727.28830969997,
          -6378.476208709995,
          -21844.466665210086,
          18836.226892780003
         ],
         "yaxis": "y"
        },
        {
         "alignmentgroup": "True",
         "hovertemplate": "variable=21 to 22<br>Crop Type=%{x}<br>Relative Change=%{y}<extra></extra>",
         "legendgroup": "21 to 22",
         "marker": {
          "color": "#FFA15A",
          "pattern": {
           "shape": ""
          }
         },
         "name": "21 to 22",
         "offsetgroup": "21 to 22",
         "orientation": "v",
         "showlegend": true,
         "textposition": "auto",
         "type": "bar",
         "x": [
          "C",
          "D",
          "F",
          "G",
          "P",
          "R",
          "T",
          "V",
          "YP"
         ],
         "xaxis": "x",
         "y": [
          11291.543436439999,
          81667.69487976003,
          4773.170285380096,
          57647.36943735997,
          -33769.916280310135,
          -155311.84298153003,
          -34880.303828199976,
          -15379.312569069909,
          20526.876183910004
         ],
         "yaxis": "y"
        }
       ],
       "layout": {
        "barmode": "group",
        "height": 600,
        "legend": {
         "title": {
          "text": "variable"
         },
         "tracegroupgap": 0
        },
        "template": {
         "data": {
          "bar": [
           {
            "error_x": {
             "color": "#2a3f5f"
            },
            "error_y": {
             "color": "#2a3f5f"
            },
            "marker": {
             "line": {
              "color": "#E5ECF6",
              "width": 0.5
             },
             "pattern": {
              "fillmode": "overlay",
              "size": 10,
              "solidity": 0.2
             }
            },
            "type": "bar"
           }
          ],
          "barpolar": [
           {
            "marker": {
             "line": {
              "color": "#E5ECF6",
              "width": 0.5
             },
             "pattern": {
              "fillmode": "overlay",
              "size": 10,
              "solidity": 0.2
             }
            },
            "type": "barpolar"
           }
          ],
          "carpet": [
           {
            "aaxis": {
             "endlinecolor": "#2a3f5f",
             "gridcolor": "white",
             "linecolor": "white",
             "minorgridcolor": "white",
             "startlinecolor": "#2a3f5f"
            },
            "baxis": {
             "endlinecolor": "#2a3f5f",
             "gridcolor": "white",
             "linecolor": "white",
             "minorgridcolor": "white",
             "startlinecolor": "#2a3f5f"
            },
            "type": "carpet"
           }
          ],
          "choropleth": [
           {
            "colorbar": {
             "outlinewidth": 0,
             "ticks": ""
            },
            "type": "choropleth"
           }
          ],
          "contour": [
           {
            "colorbar": {
             "outlinewidth": 0,
             "ticks": ""
            },
            "colorscale": [
             [
              0,
              "#0d0887"
             ],
             [
              0.1111111111111111,
              "#46039f"
             ],
             [
              0.2222222222222222,
              "#7201a8"
             ],
             [
              0.3333333333333333,
              "#9c179e"
             ],
             [
              0.4444444444444444,
              "#bd3786"
             ],
             [
              0.5555555555555556,
              "#d8576b"
             ],
             [
              0.6666666666666666,
              "#ed7953"
             ],
             [
              0.7777777777777778,
              "#fb9f3a"
             ],
             [
              0.8888888888888888,
              "#fdca26"
             ],
             [
              1,
              "#f0f921"
             ]
            ],
            "type": "contour"
           }
          ],
          "contourcarpet": [
           {
            "colorbar": {
             "outlinewidth": 0,
             "ticks": ""
            },
            "type": "contourcarpet"
           }
          ],
          "heatmap": [
           {
            "colorbar": {
             "outlinewidth": 0,
             "ticks": ""
            },
            "colorscale": [
             [
              0,
              "#0d0887"
             ],
             [
              0.1111111111111111,
              "#46039f"
             ],
             [
              0.2222222222222222,
              "#7201a8"
             ],
             [
              0.3333333333333333,
              "#9c179e"
             ],
             [
              0.4444444444444444,
              "#bd3786"
             ],
             [
              0.5555555555555556,
              "#d8576b"
             ],
             [
              0.6666666666666666,
              "#ed7953"
             ],
             [
              0.7777777777777778,
              "#fb9f3a"
             ],
             [
              0.8888888888888888,
              "#fdca26"
             ],
             [
              1,
              "#f0f921"
             ]
            ],
            "type": "heatmap"
           }
          ],
          "heatmapgl": [
           {
            "colorbar": {
             "outlinewidth": 0,
             "ticks": ""
            },
            "colorscale": [
             [
              0,
              "#0d0887"
             ],
             [
              0.1111111111111111,
              "#46039f"
             ],
             [
              0.2222222222222222,
              "#7201a8"
             ],
             [
              0.3333333333333333,
              "#9c179e"
             ],
             [
              0.4444444444444444,
              "#bd3786"
             ],
             [
              0.5555555555555556,
              "#d8576b"
             ],
             [
              0.6666666666666666,
              "#ed7953"
             ],
             [
              0.7777777777777778,
              "#fb9f3a"
             ],
             [
              0.8888888888888888,
              "#fdca26"
             ],
             [
              1,
              "#f0f921"
             ]
            ],
            "type": "heatmapgl"
           }
          ],
          "histogram": [
           {
            "marker": {
             "pattern": {
              "fillmode": "overlay",
              "size": 10,
              "solidity": 0.2
             }
            },
            "type": "histogram"
           }
          ],
          "histogram2d": [
           {
            "colorbar": {
             "outlinewidth": 0,
             "ticks": ""
            },
            "colorscale": [
             [
              0,
              "#0d0887"
             ],
             [
              0.1111111111111111,
              "#46039f"
             ],
             [
              0.2222222222222222,
              "#7201a8"
             ],
             [
              0.3333333333333333,
              "#9c179e"
             ],
             [
              0.4444444444444444,
              "#bd3786"
             ],
             [
              0.5555555555555556,
              "#d8576b"
             ],
             [
              0.6666666666666666,
              "#ed7953"
             ],
             [
              0.7777777777777778,
              "#fb9f3a"
             ],
             [
              0.8888888888888888,
              "#fdca26"
             ],
             [
              1,
              "#f0f921"
             ]
            ],
            "type": "histogram2d"
           }
          ],
          "histogram2dcontour": [
           {
            "colorbar": {
             "outlinewidth": 0,
             "ticks": ""
            },
            "colorscale": [
             [
              0,
              "#0d0887"
             ],
             [
              0.1111111111111111,
              "#46039f"
             ],
             [
              0.2222222222222222,
              "#7201a8"
             ],
             [
              0.3333333333333333,
              "#9c179e"
             ],
             [
              0.4444444444444444,
              "#bd3786"
             ],
             [
              0.5555555555555556,
              "#d8576b"
             ],
             [
              0.6666666666666666,
              "#ed7953"
             ],
             [
              0.7777777777777778,
              "#fb9f3a"
             ],
             [
              0.8888888888888888,
              "#fdca26"
             ],
             [
              1,
              "#f0f921"
             ]
            ],
            "type": "histogram2dcontour"
           }
          ],
          "mesh3d": [
           {
            "colorbar": {
             "outlinewidth": 0,
             "ticks": ""
            },
            "type": "mesh3d"
           }
          ],
          "parcoords": [
           {
            "line": {
             "colorbar": {
              "outlinewidth": 0,
              "ticks": ""
             }
            },
            "type": "parcoords"
           }
          ],
          "pie": [
           {
            "automargin": true,
            "type": "pie"
           }
          ],
          "scatter": [
           {
            "fillpattern": {
             "fillmode": "overlay",
             "size": 10,
             "solidity": 0.2
            },
            "type": "scatter"
           }
          ],
          "scatter3d": [
           {
            "line": {
             "colorbar": {
              "outlinewidth": 0,
              "ticks": ""
             }
            },
            "marker": {
             "colorbar": {
              "outlinewidth": 0,
              "ticks": ""
             }
            },
            "type": "scatter3d"
           }
          ],
          "scattercarpet": [
           {
            "marker": {
             "colorbar": {
              "outlinewidth": 0,
              "ticks": ""
             }
            },
            "type": "scattercarpet"
           }
          ],
          "scattergeo": [
           {
            "marker": {
             "colorbar": {
              "outlinewidth": 0,
              "ticks": ""
             }
            },
            "type": "scattergeo"
           }
          ],
          "scattergl": [
           {
            "marker": {
             "colorbar": {
              "outlinewidth": 0,
              "ticks": ""
             }
            },
            "type": "scattergl"
           }
          ],
          "scattermapbox": [
           {
            "marker": {
             "colorbar": {
              "outlinewidth": 0,
              "ticks": ""
             }
            },
            "type": "scattermapbox"
           }
          ],
          "scatterpolar": [
           {
            "marker": {
             "colorbar": {
              "outlinewidth": 0,
              "ticks": ""
             }
            },
            "type": "scatterpolar"
           }
          ],
          "scatterpolargl": [
           {
            "marker": {
             "colorbar": {
              "outlinewidth": 0,
              "ticks": ""
             }
            },
            "type": "scatterpolargl"
           }
          ],
          "scatterternary": [
           {
            "marker": {
             "colorbar": {
              "outlinewidth": 0,
              "ticks": ""
             }
            },
            "type": "scatterternary"
           }
          ],
          "surface": [
           {
            "colorbar": {
             "outlinewidth": 0,
             "ticks": ""
            },
            "colorscale": [
             [
              0,
              "#0d0887"
             ],
             [
              0.1111111111111111,
              "#46039f"
             ],
             [
              0.2222222222222222,
              "#7201a8"
             ],
             [
              0.3333333333333333,
              "#9c179e"
             ],
             [
              0.4444444444444444,
              "#bd3786"
             ],
             [
              0.5555555555555556,
              "#d8576b"
             ],
             [
              0.6666666666666666,
              "#ed7953"
             ],
             [
              0.7777777777777778,
              "#fb9f3a"
             ],
             [
              0.8888888888888888,
              "#fdca26"
             ],
             [
              1,
              "#f0f921"
             ]
            ],
            "type": "surface"
           }
          ],
          "table": [
           {
            "cells": {
             "fill": {
              "color": "#EBF0F8"
             },
             "line": {
              "color": "white"
             }
            },
            "header": {
             "fill": {
              "color": "#C8D4E3"
             },
             "line": {
              "color": "white"
             }
            },
            "type": "table"
           }
          ]
         },
         "layout": {
          "annotationdefaults": {
           "arrowcolor": "#2a3f5f",
           "arrowhead": 0,
           "arrowwidth": 1
          },
          "autotypenumbers": "strict",
          "coloraxis": {
           "colorbar": {
            "outlinewidth": 0,
            "ticks": ""
           }
          },
          "colorscale": {
           "diverging": [
            [
             0,
             "#8e0152"
            ],
            [
             0.1,
             "#c51b7d"
            ],
            [
             0.2,
             "#de77ae"
            ],
            [
             0.3,
             "#f1b6da"
            ],
            [
             0.4,
             "#fde0ef"
            ],
            [
             0.5,
             "#f7f7f7"
            ],
            [
             0.6,
             "#e6f5d0"
            ],
            [
             0.7,
             "#b8e186"
            ],
            [
             0.8,
             "#7fbc41"
            ],
            [
             0.9,
             "#4d9221"
            ],
            [
             1,
             "#276419"
            ]
           ],
           "sequential": [
            [
             0,
             "#0d0887"
            ],
            [
             0.1111111111111111,
             "#46039f"
            ],
            [
             0.2222222222222222,
             "#7201a8"
            ],
            [
             0.3333333333333333,
             "#9c179e"
            ],
            [
             0.4444444444444444,
             "#bd3786"
            ],
            [
             0.5555555555555556,
             "#d8576b"
            ],
            [
             0.6666666666666666,
             "#ed7953"
            ],
            [
             0.7777777777777778,
             "#fb9f3a"
            ],
            [
             0.8888888888888888,
             "#fdca26"
            ],
            [
             1,
             "#f0f921"
            ]
           ],
           "sequentialminus": [
            [
             0,
             "#0d0887"
            ],
            [
             0.1111111111111111,
             "#46039f"
            ],
            [
             0.2222222222222222,
             "#7201a8"
            ],
            [
             0.3333333333333333,
             "#9c179e"
            ],
            [
             0.4444444444444444,
             "#bd3786"
            ],
            [
             0.5555555555555556,
             "#d8576b"
            ],
            [
             0.6666666666666666,
             "#ed7953"
            ],
            [
             0.7777777777777778,
             "#fb9f3a"
            ],
            [
             0.8888888888888888,
             "#fdca26"
            ],
            [
             1,
             "#f0f921"
            ]
           ]
          },
          "colorway": [
           "#636efa",
           "#EF553B",
           "#00cc96",
           "#ab63fa",
           "#FFA15A",
           "#19d3f3",
           "#FF6692",
           "#B6E880",
           "#FF97FF",
           "#FECB52"
          ],
          "font": {
           "color": "#2a3f5f"
          },
          "geo": {
           "bgcolor": "white",
           "lakecolor": "white",
           "landcolor": "#E5ECF6",
           "showlakes": true,
           "showland": true,
           "subunitcolor": "white"
          },
          "hoverlabel": {
           "align": "left"
          },
          "hovermode": "closest",
          "mapbox": {
           "style": "light"
          },
          "paper_bgcolor": "white",
          "plot_bgcolor": "#E5ECF6",
          "polar": {
           "angularaxis": {
            "gridcolor": "white",
            "linecolor": "white",
            "ticks": ""
           },
           "bgcolor": "#E5ECF6",
           "radialaxis": {
            "gridcolor": "white",
            "linecolor": "white",
            "ticks": ""
           }
          },
          "scene": {
           "xaxis": {
            "backgroundcolor": "#E5ECF6",
            "gridcolor": "white",
            "gridwidth": 2,
            "linecolor": "white",
            "showbackground": true,
            "ticks": "",
            "zerolinecolor": "white"
           },
           "yaxis": {
            "backgroundcolor": "#E5ECF6",
            "gridcolor": "white",
            "gridwidth": 2,
            "linecolor": "white",
            "showbackground": true,
            "ticks": "",
            "zerolinecolor": "white"
           },
           "zaxis": {
            "backgroundcolor": "#E5ECF6",
            "gridcolor": "white",
            "gridwidth": 2,
            "linecolor": "white",
            "showbackground": true,
            "ticks": "",
            "zerolinecolor": "white"
           }
          },
          "shapedefaults": {
           "line": {
            "color": "#2a3f5f"
           }
          },
          "ternary": {
           "aaxis": {
            "gridcolor": "white",
            "linecolor": "white",
            "ticks": ""
           },
           "baxis": {
            "gridcolor": "white",
            "linecolor": "white",
            "ticks": ""
           },
           "bgcolor": "#E5ECF6",
           "caxis": {
            "gridcolor": "white",
            "linecolor": "white",
            "ticks": ""
           }
          },
          "title": {
           "x": 0.05
          },
          "xaxis": {
           "automargin": true,
           "gridcolor": "white",
           "linecolor": "white",
           "ticks": "",
           "title": {
            "standoff": 15
           },
           "zerolinecolor": "white",
           "zerolinewidth": 2
          },
          "yaxis": {
           "automargin": true,
           "gridcolor": "white",
           "linecolor": "white",
           "ticks": "",
           "title": {
            "standoff": 15
           },
           "zerolinecolor": "white",
           "zerolinewidth": 2
          }
         }
        },
        "title": {
         "text": "Relative Change in Crop Yields Across Three Agricultural Regions"
        },
        "xaxis": {
         "anchor": "y",
         "domain": [
          0,
          1
         ],
         "title": {
          "text": "Crop Type"
         }
        },
        "yaxis": {
         "anchor": "x",
         "domain": [
          0,
          1
         ],
         "title": {
          "text": "Relative Change"
         }
        }
       }
      }
     },
     "metadata": {},
     "output_type": "display_data"
    }
   ],
   "source": [
    "fig = px.bar(df, x=df.index, y=df.columns, title=\"Absolute Change in Crop Yields Across Three Agricultural Regions\", labels={'index': 'Crop Type', 'value': 'Absolute Change'}, height=600,barmode='group')\n",
    "fig.show()  "
   ]
  },
  {
   "cell_type": "code",
   "execution_count": 79,
   "metadata": {},
   "outputs": [
    {
     "data": {
      "application/vnd.plotly.v1+json": {
       "config": {
        "plotlyServerURL": "https://plot.ly"
       },
       "data": [
        {
         "alignmentgroup": "True",
         "hovertemplate": "Year=2016<br>Crop Type=%{x}<br>Quantity=%{y}<extra></extra>",
         "legendgroup": "2016",
         "marker": {
          "color": "#636efa",
          "pattern": {
           "shape": ""
          }
         },
         "name": "2016",
         "offsetgroup": "2016",
         "orientation": "v",
         "showlegend": true,
         "textposition": "auto",
         "type": "bar",
         "x": [
          "C",
          "D",
          "F",
          "G",
          "P",
          "T",
          "V",
          "YP",
          "R",
          "C",
          "D",
          "F",
          "G",
          "P",
          "T",
          "V",
          "YP",
          "R",
          "C",
          "D",
          "F",
          "G",
          "P",
          "T",
          "V",
          "YP",
          "R"
         ],
         "xaxis": "x",
         "y": [
          229142.56556213,
          934775.14221074,
          448653.54973127,
          223282.16322946,
          190178.14598098,
          249453.67347231,
          338664.25225945,
          103962.9018861,
          null,
          13156.17496676,
          758382.41507703,
          350053.78672125,
          119716.02397576,
          271802.09934653,
          158572.41275147,
          215941.03010191,
          57809.00794153,
          7638.15015641,
          38904.77014311,
          489531.82633979,
          144607.12729679,
          135122.78559974,
          364754.52625976,
          109031.84059682,
          53074.56392543,
          58233.15319356,
          549680.74385544
         ],
         "yaxis": "y"
        },
        {
         "alignmentgroup": "True",
         "hovertemplate": "Year=2018<br>Crop Type=%{x}<br>Quantity=%{y}<extra></extra>",
         "legendgroup": "2018",
         "marker": {
          "color": "#EF553B",
          "pattern": {
           "shape": ""
          }
         },
         "name": "2018",
         "offsetgroup": "2018",
         "orientation": "v",
         "showlegend": true,
         "textposition": "auto",
         "type": "bar",
         "x": [
          "C",
          "D",
          "F",
          "G",
          "P",
          "T",
          "V",
          "YP",
          "R",
          "C",
          "D",
          "F",
          "G",
          "P",
          "T",
          "V",
          "YP",
          "R",
          "C",
          "D",
          "F",
          "G",
          "P",
          "T",
          "V",
          "YP",
          "R"
         ],
         "xaxis": "x",
         "y": [
          239026.02262,
          1056062.51967,
          477633.99083,
          146119.28991,
          149758.95888,
          244009.39461,
          315456.7656,
          72721.5606,
          null,
          12953.54364,
          838272.08612144,
          339954.37964,
          123139.17527,
          236828.95456,
          151116.99537,
          210360.73855,
          44341.55967,
          6398.39664,
          38487.14258,
          545310.65169774,
          157315.40317,
          176617.12094,
          348851.2372802,
          101108.69067,
          56800.68481533,
          41573.27908,
          508303.77073
         ],
         "yaxis": "y"
        },
        {
         "alignmentgroup": "True",
         "hovertemplate": "Year=2020<br>Crop Type=%{x}<br>Quantity=%{y}<extra></extra>",
         "legendgroup": "2020",
         "marker": {
          "color": "#00cc96",
          "pattern": {
           "shape": ""
          }
         },
         "name": "2020",
         "offsetgroup": "2020",
         "orientation": "v",
         "showlegend": true,
         "textposition": "auto",
         "type": "bar",
         "x": [
          "C",
          "D",
          "F",
          "G",
          "P",
          "T",
          "V",
          "YP",
          "R",
          "C",
          "D",
          "F",
          "G",
          "P",
          "T",
          "V",
          "YP",
          "R",
          "C",
          "D",
          "F",
          "G",
          "P",
          "T",
          "V",
          "YP",
          "R"
         ],
         "xaxis": "x",
         "y": [
          252568.06755247,
          1172431.52840839,
          396499.98785517,
          147225.09314417,
          143921.83420861,
          235445.80867043,
          279598.29201901,
          27387.54225204,
          null,
          15752.60209609,
          908973.71919338,
          317957.36220567,
          106649.79403783,
          227952.19368313,
          128350.24012013,
          195797.47286893,
          31847.35272258,
          7967.39225934,
          40466.88777049,
          585110.40093859,
          137556.704559,
          159292.72293786,
          414146.58655957,
          94052.88335166,
          57380.31961481,
          41489.45604946,
          515104.2575672
         ],
         "yaxis": "y"
        },
        {
         "alignmentgroup": "True",
         "hovertemplate": "Year=2021<br>Crop Type=%{x}<br>Quantity=%{y}<extra></extra>",
         "legendgroup": "2021",
         "marker": {
          "color": "#ab63fa",
          "pattern": {
           "shape": ""
          }
         },
         "name": "2021",
         "offsetgroup": "2021",
         "orientation": "v",
         "showlegend": true,
         "textposition": "auto",
         "type": "bar",
         "x": [
          "C",
          "D",
          "F",
          "G",
          "P",
          "T",
          "V",
          "YP",
          "R",
          "C",
          "D",
          "F",
          "G",
          "P",
          "T",
          "V",
          "YP",
          "R",
          "C",
          "D",
          "F",
          "G",
          "P",
          "T",
          "V",
          "YP",
          "R"
         ],
         "xaxis": "x",
         "y": [
          246996.10268837,
          1167538.41597122,
          338240.35316258,
          112271.87520304,
          136627.47716113,
          212956.33534857,
          265480.15682146,
          47640.94145933,
          null,
          16820.33672368,
          919353.38439051,
          289854.27733275,
          104874.35921034,
          225619.61104792,
          139226.382596,
          193101.35174201,
          44767.797787819996,
          9592.95995288,
          42412.170652,
          609209.59454354,
          115260.90168338,
          143198.85343928,
          407820.40192024,
          100208.35660276,
          56943.7174206,
          27657.58929977,
          405997.67268332
         ],
         "yaxis": "y"
        },
        {
         "alignmentgroup": "True",
         "hovertemplate": "Year=2022<br>Crop Type=%{x}<br>Quantity=%{y}<extra></extra>",
         "legendgroup": "2022",
         "marker": {
          "color": "#FFA15A",
          "pattern": {
           "shape": ""
          }
         },
         "name": "2022",
         "offsetgroup": "2022",
         "orientation": "v",
         "showlegend": true,
         "textposition": "auto",
         "type": "bar",
         "x": [
          "C",
          "D",
          "F",
          "G",
          "P",
          "T",
          "V",
          "YP",
          "R",
          "C",
          "D",
          "F",
          "G",
          "P",
          "T",
          "V",
          "YP",
          "R",
          "C",
          "D",
          "F",
          "G",
          "P",
          "T",
          "V",
          "YP",
          "R"
         ],
         "xaxis": "x",
         "y": [
          257137.97408093,
          1216251.96100084,
          353973.13472016,
          128560.94673733,
          114974.40550301,
          191238.60779123,
          255139.88555377,
          60176.51069954,
          null,
          17137.93234106,
          941967.09147304,
          288711.79973496,
          100671.89988425,
          206622.32407503,
          135436.68476379,
          191413.79289299,
          52205.51980157,
          11000.00205639,
          42678.40206387,
          620747.24516922,
          101710.27257043,
          162729.73417293,
          418551.32010227,
          100227.76702967,
          56645.09372151,
          28414.89688281,
          249396.57125629
         ],
         "yaxis": "y"
        }
       ],
       "layout": {
        "barmode": "group",
        "height": 600,
        "legend": {
         "title": {
          "text": "Year"
         },
         "tracegroupgap": 0
        },
        "template": {
         "data": {
          "bar": [
           {
            "error_x": {
             "color": "#2a3f5f"
            },
            "error_y": {
             "color": "#2a3f5f"
            },
            "marker": {
             "line": {
              "color": "#E5ECF6",
              "width": 0.5
             },
             "pattern": {
              "fillmode": "overlay",
              "size": 10,
              "solidity": 0.2
             }
            },
            "type": "bar"
           }
          ],
          "barpolar": [
           {
            "marker": {
             "line": {
              "color": "#E5ECF6",
              "width": 0.5
             },
             "pattern": {
              "fillmode": "overlay",
              "size": 10,
              "solidity": 0.2
             }
            },
            "type": "barpolar"
           }
          ],
          "carpet": [
           {
            "aaxis": {
             "endlinecolor": "#2a3f5f",
             "gridcolor": "white",
             "linecolor": "white",
             "minorgridcolor": "white",
             "startlinecolor": "#2a3f5f"
            },
            "baxis": {
             "endlinecolor": "#2a3f5f",
             "gridcolor": "white",
             "linecolor": "white",
             "minorgridcolor": "white",
             "startlinecolor": "#2a3f5f"
            },
            "type": "carpet"
           }
          ],
          "choropleth": [
           {
            "colorbar": {
             "outlinewidth": 0,
             "ticks": ""
            },
            "type": "choropleth"
           }
          ],
          "contour": [
           {
            "colorbar": {
             "outlinewidth": 0,
             "ticks": ""
            },
            "colorscale": [
             [
              0,
              "#0d0887"
             ],
             [
              0.1111111111111111,
              "#46039f"
             ],
             [
              0.2222222222222222,
              "#7201a8"
             ],
             [
              0.3333333333333333,
              "#9c179e"
             ],
             [
              0.4444444444444444,
              "#bd3786"
             ],
             [
              0.5555555555555556,
              "#d8576b"
             ],
             [
              0.6666666666666666,
              "#ed7953"
             ],
             [
              0.7777777777777778,
              "#fb9f3a"
             ],
             [
              0.8888888888888888,
              "#fdca26"
             ],
             [
              1,
              "#f0f921"
             ]
            ],
            "type": "contour"
           }
          ],
          "contourcarpet": [
           {
            "colorbar": {
             "outlinewidth": 0,
             "ticks": ""
            },
            "type": "contourcarpet"
           }
          ],
          "heatmap": [
           {
            "colorbar": {
             "outlinewidth": 0,
             "ticks": ""
            },
            "colorscale": [
             [
              0,
              "#0d0887"
             ],
             [
              0.1111111111111111,
              "#46039f"
             ],
             [
              0.2222222222222222,
              "#7201a8"
             ],
             [
              0.3333333333333333,
              "#9c179e"
             ],
             [
              0.4444444444444444,
              "#bd3786"
             ],
             [
              0.5555555555555556,
              "#d8576b"
             ],
             [
              0.6666666666666666,
              "#ed7953"
             ],
             [
              0.7777777777777778,
              "#fb9f3a"
             ],
             [
              0.8888888888888888,
              "#fdca26"
             ],
             [
              1,
              "#f0f921"
             ]
            ],
            "type": "heatmap"
           }
          ],
          "heatmapgl": [
           {
            "colorbar": {
             "outlinewidth": 0,
             "ticks": ""
            },
            "colorscale": [
             [
              0,
              "#0d0887"
             ],
             [
              0.1111111111111111,
              "#46039f"
             ],
             [
              0.2222222222222222,
              "#7201a8"
             ],
             [
              0.3333333333333333,
              "#9c179e"
             ],
             [
              0.4444444444444444,
              "#bd3786"
             ],
             [
              0.5555555555555556,
              "#d8576b"
             ],
             [
              0.6666666666666666,
              "#ed7953"
             ],
             [
              0.7777777777777778,
              "#fb9f3a"
             ],
             [
              0.8888888888888888,
              "#fdca26"
             ],
             [
              1,
              "#f0f921"
             ]
            ],
            "type": "heatmapgl"
           }
          ],
          "histogram": [
           {
            "marker": {
             "pattern": {
              "fillmode": "overlay",
              "size": 10,
              "solidity": 0.2
             }
            },
            "type": "histogram"
           }
          ],
          "histogram2d": [
           {
            "colorbar": {
             "outlinewidth": 0,
             "ticks": ""
            },
            "colorscale": [
             [
              0,
              "#0d0887"
             ],
             [
              0.1111111111111111,
              "#46039f"
             ],
             [
              0.2222222222222222,
              "#7201a8"
             ],
             [
              0.3333333333333333,
              "#9c179e"
             ],
             [
              0.4444444444444444,
              "#bd3786"
             ],
             [
              0.5555555555555556,
              "#d8576b"
             ],
             [
              0.6666666666666666,
              "#ed7953"
             ],
             [
              0.7777777777777778,
              "#fb9f3a"
             ],
             [
              0.8888888888888888,
              "#fdca26"
             ],
             [
              1,
              "#f0f921"
             ]
            ],
            "type": "histogram2d"
           }
          ],
          "histogram2dcontour": [
           {
            "colorbar": {
             "outlinewidth": 0,
             "ticks": ""
            },
            "colorscale": [
             [
              0,
              "#0d0887"
             ],
             [
              0.1111111111111111,
              "#46039f"
             ],
             [
              0.2222222222222222,
              "#7201a8"
             ],
             [
              0.3333333333333333,
              "#9c179e"
             ],
             [
              0.4444444444444444,
              "#bd3786"
             ],
             [
              0.5555555555555556,
              "#d8576b"
             ],
             [
              0.6666666666666666,
              "#ed7953"
             ],
             [
              0.7777777777777778,
              "#fb9f3a"
             ],
             [
              0.8888888888888888,
              "#fdca26"
             ],
             [
              1,
              "#f0f921"
             ]
            ],
            "type": "histogram2dcontour"
           }
          ],
          "mesh3d": [
           {
            "colorbar": {
             "outlinewidth": 0,
             "ticks": ""
            },
            "type": "mesh3d"
           }
          ],
          "parcoords": [
           {
            "line": {
             "colorbar": {
              "outlinewidth": 0,
              "ticks": ""
             }
            },
            "type": "parcoords"
           }
          ],
          "pie": [
           {
            "automargin": true,
            "type": "pie"
           }
          ],
          "scatter": [
           {
            "fillpattern": {
             "fillmode": "overlay",
             "size": 10,
             "solidity": 0.2
            },
            "type": "scatter"
           }
          ],
          "scatter3d": [
           {
            "line": {
             "colorbar": {
              "outlinewidth": 0,
              "ticks": ""
             }
            },
            "marker": {
             "colorbar": {
              "outlinewidth": 0,
              "ticks": ""
             }
            },
            "type": "scatter3d"
           }
          ],
          "scattercarpet": [
           {
            "marker": {
             "colorbar": {
              "outlinewidth": 0,
              "ticks": ""
             }
            },
            "type": "scattercarpet"
           }
          ],
          "scattergeo": [
           {
            "marker": {
             "colorbar": {
              "outlinewidth": 0,
              "ticks": ""
             }
            },
            "type": "scattergeo"
           }
          ],
          "scattergl": [
           {
            "marker": {
             "colorbar": {
              "outlinewidth": 0,
              "ticks": ""
             }
            },
            "type": "scattergl"
           }
          ],
          "scattermapbox": [
           {
            "marker": {
             "colorbar": {
              "outlinewidth": 0,
              "ticks": ""
             }
            },
            "type": "scattermapbox"
           }
          ],
          "scatterpolar": [
           {
            "marker": {
             "colorbar": {
              "outlinewidth": 0,
              "ticks": ""
             }
            },
            "type": "scatterpolar"
           }
          ],
          "scatterpolargl": [
           {
            "marker": {
             "colorbar": {
              "outlinewidth": 0,
              "ticks": ""
             }
            },
            "type": "scatterpolargl"
           }
          ],
          "scatterternary": [
           {
            "marker": {
             "colorbar": {
              "outlinewidth": 0,
              "ticks": ""
             }
            },
            "type": "scatterternary"
           }
          ],
          "surface": [
           {
            "colorbar": {
             "outlinewidth": 0,
             "ticks": ""
            },
            "colorscale": [
             [
              0,
              "#0d0887"
             ],
             [
              0.1111111111111111,
              "#46039f"
             ],
             [
              0.2222222222222222,
              "#7201a8"
             ],
             [
              0.3333333333333333,
              "#9c179e"
             ],
             [
              0.4444444444444444,
              "#bd3786"
             ],
             [
              0.5555555555555556,
              "#d8576b"
             ],
             [
              0.6666666666666666,
              "#ed7953"
             ],
             [
              0.7777777777777778,
              "#fb9f3a"
             ],
             [
              0.8888888888888888,
              "#fdca26"
             ],
             [
              1,
              "#f0f921"
             ]
            ],
            "type": "surface"
           }
          ],
          "table": [
           {
            "cells": {
             "fill": {
              "color": "#EBF0F8"
             },
             "line": {
              "color": "white"
             }
            },
            "header": {
             "fill": {
              "color": "#C8D4E3"
             },
             "line": {
              "color": "white"
             }
            },
            "type": "table"
           }
          ]
         },
         "layout": {
          "annotationdefaults": {
           "arrowcolor": "#2a3f5f",
           "arrowhead": 0,
           "arrowwidth": 1
          },
          "autotypenumbers": "strict",
          "coloraxis": {
           "colorbar": {
            "outlinewidth": 0,
            "ticks": ""
           }
          },
          "colorscale": {
           "diverging": [
            [
             0,
             "#8e0152"
            ],
            [
             0.1,
             "#c51b7d"
            ],
            [
             0.2,
             "#de77ae"
            ],
            [
             0.3,
             "#f1b6da"
            ],
            [
             0.4,
             "#fde0ef"
            ],
            [
             0.5,
             "#f7f7f7"
            ],
            [
             0.6,
             "#e6f5d0"
            ],
            [
             0.7,
             "#b8e186"
            ],
            [
             0.8,
             "#7fbc41"
            ],
            [
             0.9,
             "#4d9221"
            ],
            [
             1,
             "#276419"
            ]
           ],
           "sequential": [
            [
             0,
             "#0d0887"
            ],
            [
             0.1111111111111111,
             "#46039f"
            ],
            [
             0.2222222222222222,
             "#7201a8"
            ],
            [
             0.3333333333333333,
             "#9c179e"
            ],
            [
             0.4444444444444444,
             "#bd3786"
            ],
            [
             0.5555555555555556,
             "#d8576b"
            ],
            [
             0.6666666666666666,
             "#ed7953"
            ],
            [
             0.7777777777777778,
             "#fb9f3a"
            ],
            [
             0.8888888888888888,
             "#fdca26"
            ],
            [
             1,
             "#f0f921"
            ]
           ],
           "sequentialminus": [
            [
             0,
             "#0d0887"
            ],
            [
             0.1111111111111111,
             "#46039f"
            ],
            [
             0.2222222222222222,
             "#7201a8"
            ],
            [
             0.3333333333333333,
             "#9c179e"
            ],
            [
             0.4444444444444444,
             "#bd3786"
            ],
            [
             0.5555555555555556,
             "#d8576b"
            ],
            [
             0.6666666666666666,
             "#ed7953"
            ],
            [
             0.7777777777777778,
             "#fb9f3a"
            ],
            [
             0.8888888888888888,
             "#fdca26"
            ],
            [
             1,
             "#f0f921"
            ]
           ]
          },
          "colorway": [
           "#636efa",
           "#EF553B",
           "#00cc96",
           "#ab63fa",
           "#FFA15A",
           "#19d3f3",
           "#FF6692",
           "#B6E880",
           "#FF97FF",
           "#FECB52"
          ],
          "font": {
           "color": "#2a3f5f"
          },
          "geo": {
           "bgcolor": "white",
           "lakecolor": "white",
           "landcolor": "#E5ECF6",
           "showlakes": true,
           "showland": true,
           "subunitcolor": "white"
          },
          "hoverlabel": {
           "align": "left"
          },
          "hovermode": "closest",
          "mapbox": {
           "style": "light"
          },
          "paper_bgcolor": "white",
          "plot_bgcolor": "#E5ECF6",
          "polar": {
           "angularaxis": {
            "gridcolor": "white",
            "linecolor": "white",
            "ticks": ""
           },
           "bgcolor": "#E5ECF6",
           "radialaxis": {
            "gridcolor": "white",
            "linecolor": "white",
            "ticks": ""
           }
          },
          "scene": {
           "xaxis": {
            "backgroundcolor": "#E5ECF6",
            "gridcolor": "white",
            "gridwidth": 2,
            "linecolor": "white",
            "showbackground": true,
            "ticks": "",
            "zerolinecolor": "white"
           },
           "yaxis": {
            "backgroundcolor": "#E5ECF6",
            "gridcolor": "white",
            "gridwidth": 2,
            "linecolor": "white",
            "showbackground": true,
            "ticks": "",
            "zerolinecolor": "white"
           },
           "zaxis": {
            "backgroundcolor": "#E5ECF6",
            "gridcolor": "white",
            "gridwidth": 2,
            "linecolor": "white",
            "showbackground": true,
            "ticks": "",
            "zerolinecolor": "white"
           }
          },
          "shapedefaults": {
           "line": {
            "color": "#2a3f5f"
           }
          },
          "ternary": {
           "aaxis": {
            "gridcolor": "white",
            "linecolor": "white",
            "ticks": ""
           },
           "baxis": {
            "gridcolor": "white",
            "linecolor": "white",
            "ticks": ""
           },
           "bgcolor": "#E5ECF6",
           "caxis": {
            "gridcolor": "white",
            "linecolor": "white",
            "ticks": ""
           }
          },
          "title": {
           "x": 0.05
          },
          "xaxis": {
           "automargin": true,
           "gridcolor": "white",
           "linecolor": "white",
           "ticks": "",
           "title": {
            "standoff": 15
           },
           "zerolinecolor": "white",
           "zerolinewidth": 2
          },
          "yaxis": {
           "automargin": true,
           "gridcolor": "white",
           "linecolor": "white",
           "ticks": "",
           "title": {
            "standoff": 15
           },
           "zerolinecolor": "white",
           "zerolinewidth": 2
          }
         }
        },
        "title": {
         "text": "Crop Distribution Change in 3 AG Regions"
        },
        "xaxis": {
         "anchor": "y",
         "domain": [
          0,
          1
         ],
         "title": {
          "text": "Crop Type"
         }
        },
        "yaxis": {
         "anchor": "x",
         "domain": [
          0,
          1
         ],
         "title": {
          "text": "Quantity"
         }
        }
       }
      }
     },
     "metadata": {},
     "output_type": "display_data"
    }
   ],
   "source": [
    "meta_df_crops_selected = meta_df_crops.loc[meta_df_crops['Region'].isin(['Tulare Lake', 'San Joaquin River', 'Sacramento River'])]\n",
    "# Create the bar plot with color based on DataFrame column\n",
    "fig = px.bar(meta_df_crops_selected, x='Crop Type', y='value',\n",
    "             title=\"Crop Distribution Change in 3 AG Regions\",\n",
    "             labels={'index': 'Crop Type', 'value': 'Quantity', 'Region': 'Region'},\n",
    "             color='Year', \n",
    "             height=600, barmode='group')\n",
    "\n",
    "# Show the plot\n",
    "fig.show()"
   ]
  },
  {
   "cell_type": "code",
   "execution_count": 81,
   "metadata": {},
   "outputs": [
    {
     "data": {
      "text/html": [
       "<div>\n",
       "<style scoped>\n",
       "    .dataframe tbody tr th:only-of-type {\n",
       "        vertical-align: middle;\n",
       "    }\n",
       "\n",
       "    .dataframe tbody tr th {\n",
       "        vertical-align: top;\n",
       "    }\n",
       "\n",
       "    .dataframe thead th {\n",
       "        text-align: right;\n",
       "    }\n",
       "</style>\n",
       "<table border=\"1\" class=\"dataframe\">\n",
       "  <thead>\n",
       "    <tr style=\"text-align: right;\">\n",
       "      <th></th>\n",
       "      <th>Crop Type</th>\n",
       "      <th>Year</th>\n",
       "      <th>Region</th>\n",
       "      <th>value</th>\n",
       "    </tr>\n",
       "  </thead>\n",
       "  <tbody>\n",
       "    <tr>\n",
       "      <th>0</th>\n",
       "      <td>C</td>\n",
       "      <td>2016</td>\n",
       "      <td>Tulare Lake</td>\n",
       "      <td>229142.565562</td>\n",
       "    </tr>\n",
       "    <tr>\n",
       "      <th>1</th>\n",
       "      <td>D</td>\n",
       "      <td>2016</td>\n",
       "      <td>Tulare Lake</td>\n",
       "      <td>934775.142211</td>\n",
       "    </tr>\n",
       "    <tr>\n",
       "      <th>2</th>\n",
       "      <td>F</td>\n",
       "      <td>2016</td>\n",
       "      <td>Tulare Lake</td>\n",
       "      <td>448653.549731</td>\n",
       "    </tr>\n",
       "    <tr>\n",
       "      <th>3</th>\n",
       "      <td>G</td>\n",
       "      <td>2016</td>\n",
       "      <td>Tulare Lake</td>\n",
       "      <td>223282.163229</td>\n",
       "    </tr>\n",
       "    <tr>\n",
       "      <th>4</th>\n",
       "      <td>P</td>\n",
       "      <td>2016</td>\n",
       "      <td>Tulare Lake</td>\n",
       "      <td>190178.145981</td>\n",
       "    </tr>\n",
       "    <tr>\n",
       "      <th>...</th>\n",
       "      <td>...</td>\n",
       "      <td>...</td>\n",
       "      <td>...</td>\n",
       "      <td>...</td>\n",
       "    </tr>\n",
       "    <tr>\n",
       "      <th>445</th>\n",
       "      <td>P</td>\n",
       "      <td>2022</td>\n",
       "      <td>South Lahontan</td>\n",
       "      <td>38723.907320</td>\n",
       "    </tr>\n",
       "    <tr>\n",
       "      <th>446</th>\n",
       "      <td>T</td>\n",
       "      <td>2022</td>\n",
       "      <td>South Lahontan</td>\n",
       "      <td>3663.880592</td>\n",
       "    </tr>\n",
       "    <tr>\n",
       "      <th>447</th>\n",
       "      <td>V</td>\n",
       "      <td>2022</td>\n",
       "      <td>South Lahontan</td>\n",
       "      <td>87.180318</td>\n",
       "    </tr>\n",
       "    <tr>\n",
       "      <th>448</th>\n",
       "      <td>YP</td>\n",
       "      <td>2022</td>\n",
       "      <td>South Lahontan</td>\n",
       "      <td>5.601837</td>\n",
       "    </tr>\n",
       "    <tr>\n",
       "      <th>449</th>\n",
       "      <td>R</td>\n",
       "      <td>2022</td>\n",
       "      <td>South Lahontan</td>\n",
       "      <td>NaN</td>\n",
       "    </tr>\n",
       "  </tbody>\n",
       "</table>\n",
       "<p>450 rows × 4 columns</p>\n",
       "</div>"
      ],
      "text/plain": [
       "    Crop Type  Year          Region          value\n",
       "0           C  2016     Tulare Lake  229142.565562\n",
       "1           D  2016     Tulare Lake  934775.142211\n",
       "2           F  2016     Tulare Lake  448653.549731\n",
       "3           G  2016     Tulare Lake  223282.163229\n",
       "4           P  2016     Tulare Lake  190178.145981\n",
       "..        ...   ...             ...            ...\n",
       "445         P  2022  South Lahontan   38723.907320\n",
       "446         T  2022  South Lahontan    3663.880592\n",
       "447         V  2022  South Lahontan      87.180318\n",
       "448        YP  2022  South Lahontan       5.601837\n",
       "449         R  2022  South Lahontan            NaN\n",
       "\n",
       "[450 rows x 4 columns]"
      ]
     },
     "execution_count": 81,
     "metadata": {},
     "output_type": "execute_result"
    }
   ],
   "source": [
    "meta_df_crops"
   ]
  },
  {
   "cell_type": "code",
   "execution_count": 82,
   "metadata": {},
   "outputs": [
    {
     "data": {
      "image/png": "[encoded data removed]",
      "text/plain": [
       "<Figure size 1200x800 with 3 Axes>"
      ]
     },
     "metadata": {},
     "output_type": "display_data"
    }
   ],
   "source": [
    "fig, axes = plt.subplots(3, 1, figsize=(12, 8), sharey=True)\n",
    "axes = axes.flatten()  # Flatten axes array if needed (in this case it's already 1D)\n",
    "\n",
    "for i, region in enumerate(['Tulare Lake', 'San Joaquin River', 'Sacramento River']):\n",
    "    selected_df = meta_df_crops[meta_df_crops['Region'] == region]\n",
    "    selected_df = selected_df.reset_index()\n",
    "    \n",
    "    # Create a pivot table where each column is a crop type, rows are years, and values are 'value'\n",
    "    selected_df_pivot = selected_df.pivot_table(index='Year', columns='Crop Type', values='value', dropna=False)\n",
    "    selected_df_pivot = selected_df_pivot.T\n",
    "    # Plotting directly with Matplotlib\n",
    "    selected_df_pivot.plot(kind='bar', ax=axes[i], legend=True, title=region)\n",
    "    axes[i].set_ylabel('Value')\n",
    "    axes[i].legend(title='Year')\n",
    "\n",
    "# Adjust the layout and display the plot\n",
    "plt.tight_layout()\n",
    "plt.show()"
   ]
  },
  {
   "cell_type": "code",
   "execution_count": 134,
   "metadata": {},
   "outputs": [],
   "source": [
    "meta_df_crops = meta_df_crops.loc [meta_df_crops.Year>='2020']"
   ]
  },
  {
   "cell_type": "code",
   "execution_count": 135,
   "metadata": {},
   "outputs": [
    {
     "data": {
      "image/png": "[encoded data removed]",
      "text/plain": [
       "<Figure size 1200x800 with 3 Axes>"
      ]
     },
     "metadata": {},
     "output_type": "display_data"
    }
   ],
   "source": [
    "fig, axes = plt.subplots(3, 1, figsize=(12, 8), sharey=True)\n",
    "axes = axes.flatten()  # Flatten axes array if needed (in this case it's already 1D)\n",
    "\n",
    "for i, region in enumerate(['Tulare Lake', 'San Joaquin River', 'Sacramento River']):\n",
    "    selected_df = meta_df_crops[meta_df_crops['Region'] == region]\n",
    "    selected_df = selected_df.reset_index()\n",
    "    \n",
    "    # Create a pivot table where each column is a crop type, rows are years, and values are 'value'\n",
    "    selected_df_pivot = selected_df.pivot_table(index='Year', columns='Crop Type', values='value', dropna=False)\n",
    "    selected_df_pivot = selected_df_pivot.T\n",
    "    # Plotting directly with Matplotlib\n",
    "    selected_df_pivot.plot(kind='bar', ax=axes[i], legend=True, title=region)\n",
    "    axes[i].set_ylabel('Value')\n",
    "    axes[i].legend(title='Year')\n",
    "\n",
    "# Adjust the layout and display the plot\n",
    "plt.tight_layout()\n",
    "plt.show()"
   ]
  },
  {
   "cell_type": "code",
   "execution_count": 111,
   "metadata": {},
   "outputs": [],
   "source": [
    "meta_df_crops = meta_df_crops.loc[meta_df_crops.Year >='2020']"
   ]
  },
  {
   "cell_type": "code",
   "execution_count": 129,
   "metadata": {},
   "outputs": [
    {
     "data": {
      "image/png": "[encoded data removed]",
      "text/plain": [
       "<Figure size 500x800 with 3 Axes>"
      ]
     },
     "metadata": {},
     "output_type": "display_data"
    }
   ],
   "source": [
    "fig, axes = plt.subplots(3, 1, figsize=(5, 8), sharey=True)\n",
    "axes = axes.flatten()  # Flatten axes array if needed (in this case it's already 1D)\n",
    "\n",
    "for i, region in enumerate(['Tulare Lake', 'San Joaquin River', 'Sacramento River']):\n",
    "    selected_df = meta_df_crops[meta_df_crops['Region'] == region]\n",
    "    selected_df = selected_df.reset_index()\n",
    "    \n",
    "    # Create a pivot table where each column is a crop type, rows are years, and values are 'value'\n",
    "    selected_df_pivot = selected_df.pivot_table(index='Year', columns='Crop Type', values='value', dropna=False)\n",
    "    # Plotting directly with Matplotlib\n",
    "    selected_df_pivot.plot.area(ax=axes[i], legend=True, title=region)\n",
    "    axes[i].set_ylabel('Value')\n",
    "    axes[i].legend(title='Year', loc='upper right', bbox_to_anchor=(1.3, 1.1))\n",
    "\n",
    "# Adjust the layout and display the plot\n",
    "plt.tight_layout()\n",
    "plt.show()"
   ]
  },
  {
   "cell_type": "code",
   "execution_count": 115,
   "metadata": {},
   "outputs": [
    {
     "name": "stderr",
     "output_type": "stream",
     "text": [
      "C:\\Users\\armen\\AppData\\Local\\Temp\\ipykernel_14904\\4074117596.py:2: SettingWithCopyWarning:\n",
      "\n",
      "\n",
      "A value is trying to be set on a copy of a slice from a DataFrame.\n",
      "Try using .loc[row_indexer,col_indexer] = value instead\n",
      "\n",
      "See the caveats in the documentation: https://pandas.pydata.org/pandas-docs/stable/user_guide/indexing.html#returning-a-view-versus-a-copy\n",
      "\n"
     ]
    },
    {
     "data": {
      "text/html": [
       "<div>\n",
       "<style scoped>\n",
       "    .dataframe tbody tr th:only-of-type {\n",
       "        vertical-align: middle;\n",
       "    }\n",
       "\n",
       "    .dataframe tbody tr th {\n",
       "        vertical-align: top;\n",
       "    }\n",
       "\n",
       "    .dataframe thead th {\n",
       "        text-align: right;\n",
       "    }\n",
       "</style>\n",
       "<table border=\"1\" class=\"dataframe\">\n",
       "  <thead>\n",
       "    <tr style=\"text-align: right;\">\n",
       "      <th></th>\n",
       "      <th>Crop Type</th>\n",
       "      <th>Year</th>\n",
       "      <th>Region</th>\n",
       "      <th>value</th>\n",
       "      <th>New Crop Type</th>\n",
       "    </tr>\n",
       "  </thead>\n",
       "  <tbody>\n",
       "    <tr>\n",
       "      <th>18</th>\n",
       "      <td>C</td>\n",
       "      <td>2020</td>\n",
       "      <td>Tulare Lake</td>\n",
       "      <td>2.525681e+05</td>\n",
       "      <td>Crops</td>\n",
       "    </tr>\n",
       "    <tr>\n",
       "      <th>19</th>\n",
       "      <td>D</td>\n",
       "      <td>2020</td>\n",
       "      <td>Tulare Lake</td>\n",
       "      <td>1.172432e+06</td>\n",
       "      <td>Crops</td>\n",
       "    </tr>\n",
       "    <tr>\n",
       "      <th>20</th>\n",
       "      <td>F</td>\n",
       "      <td>2020</td>\n",
       "      <td>Tulare Lake</td>\n",
       "      <td>3.965000e+05</td>\n",
       "      <td>Crops</td>\n",
       "    </tr>\n",
       "    <tr>\n",
       "      <th>21</th>\n",
       "      <td>G</td>\n",
       "      <td>2020</td>\n",
       "      <td>Tulare Lake</td>\n",
       "      <td>1.472251e+05</td>\n",
       "      <td>Crops</td>\n",
       "    </tr>\n",
       "    <tr>\n",
       "      <th>22</th>\n",
       "      <td>P</td>\n",
       "      <td>2020</td>\n",
       "      <td>Tulare Lake</td>\n",
       "      <td>1.439218e+05</td>\n",
       "      <td>Crops</td>\n",
       "    </tr>\n",
       "    <tr>\n",
       "      <th>...</th>\n",
       "      <td>...</td>\n",
       "      <td>...</td>\n",
       "      <td>...</td>\n",
       "      <td>...</td>\n",
       "      <td>...</td>\n",
       "    </tr>\n",
       "    <tr>\n",
       "      <th>445</th>\n",
       "      <td>P</td>\n",
       "      <td>2022</td>\n",
       "      <td>South Lahontan</td>\n",
       "      <td>3.872391e+04</td>\n",
       "      <td>Crops</td>\n",
       "    </tr>\n",
       "    <tr>\n",
       "      <th>446</th>\n",
       "      <td>T</td>\n",
       "      <td>2022</td>\n",
       "      <td>South Lahontan</td>\n",
       "      <td>3.663881e+03</td>\n",
       "      <td>Crops</td>\n",
       "    </tr>\n",
       "    <tr>\n",
       "      <th>447</th>\n",
       "      <td>V</td>\n",
       "      <td>2022</td>\n",
       "      <td>South Lahontan</td>\n",
       "      <td>8.718032e+01</td>\n",
       "      <td>Crops</td>\n",
       "    </tr>\n",
       "    <tr>\n",
       "      <th>448</th>\n",
       "      <td>YP</td>\n",
       "      <td>2022</td>\n",
       "      <td>South Lahontan</td>\n",
       "      <td>5.601837e+00</td>\n",
       "      <td>Young Perennial</td>\n",
       "    </tr>\n",
       "    <tr>\n",
       "      <th>449</th>\n",
       "      <td>R</td>\n",
       "      <td>2022</td>\n",
       "      <td>South Lahontan</td>\n",
       "      <td>NaN</td>\n",
       "      <td>Crops</td>\n",
       "    </tr>\n",
       "  </tbody>\n",
       "</table>\n",
       "<p>270 rows × 5 columns</p>\n",
       "</div>"
      ],
      "text/plain": [
       "    Crop Type  Year          Region         value    New Crop Type\n",
       "18          C  2020     Tulare Lake  2.525681e+05            Crops\n",
       "19          D  2020     Tulare Lake  1.172432e+06            Crops\n",
       "20          F  2020     Tulare Lake  3.965000e+05            Crops\n",
       "21          G  2020     Tulare Lake  1.472251e+05            Crops\n",
       "22          P  2020     Tulare Lake  1.439218e+05            Crops\n",
       "..        ...   ...             ...           ...              ...\n",
       "445         P  2022  South Lahontan  3.872391e+04            Crops\n",
       "446         T  2022  South Lahontan  3.663881e+03            Crops\n",
       "447         V  2022  South Lahontan  8.718032e+01            Crops\n",
       "448        YP  2022  South Lahontan  5.601837e+00  Young Perennial\n",
       "449         R  2022  South Lahontan           NaN            Crops\n",
       "\n",
       "[270 rows x 5 columns]"
      ]
     },
     "execution_count": 115,
     "metadata": {},
     "output_type": "execute_result"
    }
   ],
   "source": [
    "# Add a new column based on the Crop Type condition\n",
    "meta_df_crops['New Crop Type'] = meta_df_crops['Crop Type'].apply(lambda x: 'Young Perennial' if x == 'YP' else 'Crops')\n",
    "meta_df_crops"
   ]
  },
  {
   "cell_type": "code",
   "execution_count": 118,
   "metadata": {},
   "outputs": [
    {
     "data": {
      "text/html": [
       "<div>\n",
       "<style scoped>\n",
       "    .dataframe tbody tr th:only-of-type {\n",
       "        vertical-align: middle;\n",
       "    }\n",
       "\n",
       "    .dataframe tbody tr th {\n",
       "        vertical-align: top;\n",
       "    }\n",
       "\n",
       "    .dataframe thead th {\n",
       "        text-align: right;\n",
       "    }\n",
       "</style>\n",
       "<table border=\"1\" class=\"dataframe\">\n",
       "  <thead>\n",
       "    <tr style=\"text-align: right;\">\n",
       "      <th></th>\n",
       "      <th>index</th>\n",
       "      <th>Crop Type</th>\n",
       "      <th>Year</th>\n",
       "      <th>Region</th>\n",
       "      <th>value</th>\n",
       "      <th>New Crop Type</th>\n",
       "    </tr>\n",
       "  </thead>\n",
       "  <tbody>\n",
       "    <tr>\n",
       "      <th>0</th>\n",
       "      <td>153</td>\n",
       "      <td>C</td>\n",
       "      <td>2020</td>\n",
       "      <td>Sacramento River</td>\n",
       "      <td>40466.887770</td>\n",
       "      <td>Crops</td>\n",
       "    </tr>\n",
       "    <tr>\n",
       "      <th>1</th>\n",
       "      <td>154</td>\n",
       "      <td>D</td>\n",
       "      <td>2020</td>\n",
       "      <td>Sacramento River</td>\n",
       "      <td>585110.400939</td>\n",
       "      <td>Crops</td>\n",
       "    </tr>\n",
       "    <tr>\n",
       "      <th>2</th>\n",
       "      <td>155</td>\n",
       "      <td>F</td>\n",
       "      <td>2020</td>\n",
       "      <td>Sacramento River</td>\n",
       "      <td>137556.704559</td>\n",
       "      <td>Crops</td>\n",
       "    </tr>\n",
       "    <tr>\n",
       "      <th>3</th>\n",
       "      <td>156</td>\n",
       "      <td>G</td>\n",
       "      <td>2020</td>\n",
       "      <td>Sacramento River</td>\n",
       "      <td>159292.722938</td>\n",
       "      <td>Crops</td>\n",
       "    </tr>\n",
       "    <tr>\n",
       "      <th>4</th>\n",
       "      <td>157</td>\n",
       "      <td>P</td>\n",
       "      <td>2020</td>\n",
       "      <td>Sacramento River</td>\n",
       "      <td>414146.586560</td>\n",
       "      <td>Crops</td>\n",
       "    </tr>\n",
       "  </tbody>\n",
       "</table>\n",
       "</div>"
      ],
      "text/plain": [
       "   index Crop Type  Year            Region          value New Crop Type\n",
       "0    153         C  2020  Sacramento River   40466.887770         Crops\n",
       "1    154         D  2020  Sacramento River  585110.400939         Crops\n",
       "2    155         F  2020  Sacramento River  137556.704559         Crops\n",
       "3    156         G  2020  Sacramento River  159292.722938         Crops\n",
       "4    157         P  2020  Sacramento River  414146.586560         Crops"
      ]
     },
     "execution_count": 118,
     "metadata": {},
     "output_type": "execute_result"
    }
   ],
   "source": [
    "selected_df.head()"
   ]
  },
  {
   "cell_type": "code",
   "execution_count": 122,
   "metadata": {},
   "outputs": [
    {
     "data": {
      "image/png": "[encoded data removed]",
      "text/plain": [
       "<Figure size 500x800 with 3 Axes>"
      ]
     },
     "metadata": {},
     "output_type": "display_data"
    }
   ],
   "source": [
    "fig, axes = plt.subplots(3, 1, figsize=(5, 8), sharey=True)\n",
    "axes = axes.flatten()  # Flatten axes array if needed (in this case it's already 1D)\n",
    "\n",
    "for i, region in enumerate(['Tulare Lake', 'San Joaquin River', 'Sacramento River']):\n",
    "    selected_df = meta_df_crops[meta_df_crops['Region'] == region]\n",
    "    selected_df = selected_df.reset_index()\n",
    "    \n",
    "    # Create a pivot table where each column is a crop type, rows are years, and values are 'value'\n",
    "    selected_df_pivot = selected_df.pivot_table(index='Year', columns='New Crop Type', values='value', aggfunc='sum', dropna=False)\n",
    "    # Plotting directly with Matplotlib\n",
    "    # plt.stackplot(x = selected_df['Year'],y,ax=axes[i], legend=True, title=region)\n",
    "    selected_df_pivot.plot.area(ax=axes[i], legend=True, title=region)\n",
    "    axes[i].set_ylabel('Value')\n",
    "    axes[i].legend(title='Year')\n",
    "\n",
    "# Adjust the layout and display the plot\n",
    "plt.tight_layout()\n",
    "plt.show()"
   ]
  }
 ],
 "metadata": {
  "kernelspec": {
   "display_name": "geospat_env_trial",
   "language": "python",
   "name": "python3"
  },
  "language_info": {
   "codemirror_mode": {
    "name": "ipython",
    "version": 3
   },
   "file_extension": ".py",
   "mimetype": "text/x-python",
   "name": "python",
   "nbconvert_exporter": "python",
   "pygments_lexer": "ipython3",
   "version": "3.12.1"
  }
 },
 "nbformat": 4,
 "nbformat_minor": 2
}
